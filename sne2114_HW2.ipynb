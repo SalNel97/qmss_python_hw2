{
  "nbformat": 4,
  "nbformat_minor": 0,
  "metadata": {
    "colab": {
      "name": "sne2114_HW2.ipynb",
      "provenance": [],
      "collapsed_sections": [
        "FB5fAHZlN1Pp",
        "G1IliMNvHJxA",
        "F1FGrPXjkC4z",
        "xUQDezyspAWU",
        "ufHvQoZmrPj_",
        "RKFUoW-Kr7Ts",
        "tglL8LqDsJZW",
        "2bfgDU1esPOO",
        "izE0FE3nvz2L",
        "yk5o6tBe_NdO",
        "ZuKmrmwrCJ7a",
        "a26jSZEaCzVV",
        "eKCsx56qxUoE",
        "l_yh6ilXxguf",
        "VkYzkugpTUJV",
        "dSkM6HY0TaTc",
        "gCStfiHzTcBn",
        "b6M5MnWWKNmL",
        "LcppiWcURlwc",
        "pgMNhI8EXI4U",
        "CkFohntwTdcl"
      ],
      "authorship_tag": "ABX9TyNrErEgAXTI/08tUveV55u+",
      "include_colab_link": true
    },
    "kernelspec": {
      "name": "python3",
      "display_name": "Python 3"
    },
    "language_info": {
      "name": "python"
    }
  },
  "cells": [
    {
      "cell_type": "markdown",
      "metadata": {
        "id": "view-in-github",
        "colab_type": "text"
      },
      "source": [
        "<a href=\"https://colab.research.google.com/github/SalNel97/qmss_python_hw2/blob/main/sne2114_HW2.ipynb\" target=\"_parent\"><img src=\"https://colab.research.google.com/assets/colab-badge.svg\" alt=\"Open In Colab\"/></a>"
      ]
    },
    {
      "cell_type": "markdown",
      "metadata": {
        "id": "_jIXJNuMHFmH"
      },
      "source": [
        "**QMSS S5073**\n",
        "# ***Homework 2***\n",
        "**Salah El-Sadek (sne2114)**\n",
        "\n",
        "---"
      ]
    },
    {
      "cell_type": "code",
      "metadata": {
        "id": "eve6b5GUjFMZ"
      },
      "source": [
        "# Importing relevant libraries\n",
        "import numpy as np\n",
        "import scipy as sp\n",
        "import pandas as pd\n",
        "import matplotlib as mpl\n",
        "\n",
        "from sklearn.pipeline import make_pipeline"
      ],
      "execution_count": 186,
      "outputs": []
    },
    {
      "cell_type": "markdown",
      "metadata": {
        "id": "ELew4QJeSuCa"
      },
      "source": [
        "##***Part 1***"
      ]
    },
    {
      "cell_type": "markdown",
      "metadata": {
        "id": "FB5fAHZlN1Pp"
      },
      "source": [
        "### **1.0:** \n",
        "*Find the url for the California Test Score Data Set from the following website:*\n",
        "\n",
        "https://vincentarelbundock.github.io/Rdatasets/datasets.html\n",
        "\n",
        "*Read through the \"DOC\" file to understand the variables in the dataset, then use the following url to import the data.*\n",
        "\n",
        "https://vincentarelbundock.github.io/Rdatasets/csv/Ecdat/Caschool.csv\n",
        "\n",
        "*The target data (i.e. the dependent variable) is named \"testscr\".  You can use all  variables in the data except for \"readscr\" and \"mathscr\" in the following analysis.  (These two variables were used to generate the dependent variable).*"
      ]
    },
    {
      "cell_type": "code",
      "metadata": {
        "id": "vHOGD1xzGdHL",
        "colab": {
          "base_uri": "https://localhost:8080/",
          "height": 383
        },
        "outputId": "9d1cc441-9958-4572-e5ca-1f1f7132fdc0"
      },
      "source": [
        "#Reading in data\n",
        "df1 = pd.read_csv(\"https://vincentarelbundock.github.io/Rdatasets/csv/Ecdat/Caschool.csv\")\n",
        "df1.head()"
      ],
      "execution_count": 187,
      "outputs": [
        {
          "output_type": "execute_result",
          "data": {
            "text/html": [
              "<div>\n",
              "<style scoped>\n",
              "    .dataframe tbody tr th:only-of-type {\n",
              "        vertical-align: middle;\n",
              "    }\n",
              "\n",
              "    .dataframe tbody tr th {\n",
              "        vertical-align: top;\n",
              "    }\n",
              "\n",
              "    .dataframe thead th {\n",
              "        text-align: right;\n",
              "    }\n",
              "</style>\n",
              "<table border=\"1\" class=\"dataframe\">\n",
              "  <thead>\n",
              "    <tr style=\"text-align: right;\">\n",
              "      <th></th>\n",
              "      <th>Unnamed: 0</th>\n",
              "      <th>distcod</th>\n",
              "      <th>county</th>\n",
              "      <th>district</th>\n",
              "      <th>grspan</th>\n",
              "      <th>enrltot</th>\n",
              "      <th>teachers</th>\n",
              "      <th>calwpct</th>\n",
              "      <th>mealpct</th>\n",
              "      <th>computer</th>\n",
              "      <th>testscr</th>\n",
              "      <th>compstu</th>\n",
              "      <th>expnstu</th>\n",
              "      <th>str</th>\n",
              "      <th>avginc</th>\n",
              "      <th>elpct</th>\n",
              "      <th>readscr</th>\n",
              "      <th>mathscr</th>\n",
              "    </tr>\n",
              "  </thead>\n",
              "  <tbody>\n",
              "    <tr>\n",
              "      <th>0</th>\n",
              "      <td>1</td>\n",
              "      <td>75119</td>\n",
              "      <td>Alameda</td>\n",
              "      <td>Sunol Glen Unified</td>\n",
              "      <td>KK-08</td>\n",
              "      <td>195</td>\n",
              "      <td>10.900000</td>\n",
              "      <td>0.510200</td>\n",
              "      <td>2.040800</td>\n",
              "      <td>67</td>\n",
              "      <td>690.799988</td>\n",
              "      <td>0.343590</td>\n",
              "      <td>6384.911133</td>\n",
              "      <td>17.889910</td>\n",
              "      <td>22.690001</td>\n",
              "      <td>0.000000</td>\n",
              "      <td>691.599976</td>\n",
              "      <td>690.000000</td>\n",
              "    </tr>\n",
              "    <tr>\n",
              "      <th>1</th>\n",
              "      <td>2</td>\n",
              "      <td>61499</td>\n",
              "      <td>Butte</td>\n",
              "      <td>Manzanita Elementary</td>\n",
              "      <td>KK-08</td>\n",
              "      <td>240</td>\n",
              "      <td>11.150000</td>\n",
              "      <td>15.416700</td>\n",
              "      <td>47.916698</td>\n",
              "      <td>101</td>\n",
              "      <td>661.200012</td>\n",
              "      <td>0.420833</td>\n",
              "      <td>5099.380859</td>\n",
              "      <td>21.524664</td>\n",
              "      <td>9.824000</td>\n",
              "      <td>4.583333</td>\n",
              "      <td>660.500000</td>\n",
              "      <td>661.900024</td>\n",
              "    </tr>\n",
              "    <tr>\n",
              "      <th>2</th>\n",
              "      <td>3</td>\n",
              "      <td>61549</td>\n",
              "      <td>Butte</td>\n",
              "      <td>Thermalito Union Elementary</td>\n",
              "      <td>KK-08</td>\n",
              "      <td>1550</td>\n",
              "      <td>82.900002</td>\n",
              "      <td>55.032299</td>\n",
              "      <td>76.322601</td>\n",
              "      <td>169</td>\n",
              "      <td>643.599976</td>\n",
              "      <td>0.109032</td>\n",
              "      <td>5501.954590</td>\n",
              "      <td>18.697226</td>\n",
              "      <td>8.978000</td>\n",
              "      <td>30.000002</td>\n",
              "      <td>636.299988</td>\n",
              "      <td>650.900024</td>\n",
              "    </tr>\n",
              "    <tr>\n",
              "      <th>3</th>\n",
              "      <td>4</td>\n",
              "      <td>61457</td>\n",
              "      <td>Butte</td>\n",
              "      <td>Golden Feather Union Elementary</td>\n",
              "      <td>KK-08</td>\n",
              "      <td>243</td>\n",
              "      <td>14.000000</td>\n",
              "      <td>36.475399</td>\n",
              "      <td>77.049202</td>\n",
              "      <td>85</td>\n",
              "      <td>647.700012</td>\n",
              "      <td>0.349794</td>\n",
              "      <td>7101.831055</td>\n",
              "      <td>17.357143</td>\n",
              "      <td>8.978000</td>\n",
              "      <td>0.000000</td>\n",
              "      <td>651.900024</td>\n",
              "      <td>643.500000</td>\n",
              "    </tr>\n",
              "    <tr>\n",
              "      <th>4</th>\n",
              "      <td>5</td>\n",
              "      <td>61523</td>\n",
              "      <td>Butte</td>\n",
              "      <td>Palermo Union Elementary</td>\n",
              "      <td>KK-08</td>\n",
              "      <td>1335</td>\n",
              "      <td>71.500000</td>\n",
              "      <td>33.108601</td>\n",
              "      <td>78.427002</td>\n",
              "      <td>171</td>\n",
              "      <td>640.849976</td>\n",
              "      <td>0.128090</td>\n",
              "      <td>5235.987793</td>\n",
              "      <td>18.671329</td>\n",
              "      <td>9.080333</td>\n",
              "      <td>13.857677</td>\n",
              "      <td>641.799988</td>\n",
              "      <td>639.900024</td>\n",
              "    </tr>\n",
              "  </tbody>\n",
              "</table>\n",
              "</div>"
            ],
            "text/plain": [
              "   Unnamed: 0  distcod   county  ...      elpct     readscr     mathscr\n",
              "0           1    75119  Alameda  ...   0.000000  691.599976  690.000000\n",
              "1           2    61499    Butte  ...   4.583333  660.500000  661.900024\n",
              "2           3    61549    Butte  ...  30.000002  636.299988  650.900024\n",
              "3           4    61457    Butte  ...   0.000000  651.900024  643.500000\n",
              "4           5    61523    Butte  ...  13.857677  641.799988  639.900024\n",
              "\n",
              "[5 rows x 18 columns]"
            ]
          },
          "metadata": {
            "tags": []
          },
          "execution_count": 187
        }
      ]
    },
    {
      "cell_type": "code",
      "metadata": {
        "colab": {
          "base_uri": "https://localhost:8080/"
        },
        "id": "Shlzq7pEGUnt",
        "outputId": "46099e36-68ba-4057-c6f4-6dbcf8fb2feb"
      },
      "source": [
        "df1.dtypes"
      ],
      "execution_count": 188,
      "outputs": [
        {
          "output_type": "execute_result",
          "data": {
            "text/plain": [
              "Unnamed: 0      int64\n",
              "distcod         int64\n",
              "county         object\n",
              "district       object\n",
              "grspan         object\n",
              "enrltot         int64\n",
              "teachers      float64\n",
              "calwpct       float64\n",
              "mealpct       float64\n",
              "computer        int64\n",
              "testscr       float64\n",
              "compstu       float64\n",
              "expnstu       float64\n",
              "str           float64\n",
              "avginc        float64\n",
              "elpct         float64\n",
              "readscr       float64\n",
              "mathscr       float64\n",
              "dtype: object"
            ]
          },
          "metadata": {
            "tags": []
          },
          "execution_count": 188
        }
      ]
    },
    {
      "cell_type": "markdown",
      "metadata": {
        "id": "ZsATlp_1m4UA"
      },
      "source": [
        "\n",
        "\n",
        "---\n",
        "\n",
        "\n",
        "Deleting non-numeric columns along with the first column, 'distcod', and the 'readscr' and 'mathscr' columns. Also deleting the 'enrltot' and 'teachers' column, since they are already represented in the student-to-teacher ratio variable 'str' and that could pose a collinearity problem.\n",
        "\n",
        "\n",
        "---\n",
        "\n"
      ]
    },
    {
      "cell_type": "code",
      "metadata": {
        "colab": {
          "base_uri": "https://localhost:8080/",
          "height": 195
        },
        "id": "p9I02cs-Elk9",
        "outputId": "1d8d9282-bb92-4069-ee5b-109b70ba900e"
      },
      "source": [
        "df1_sub = df1.iloc[:, [7,8,9,10,11,12,13,14,15]]\n",
        "df1_sub.head()"
      ],
      "execution_count": 189,
      "outputs": [
        {
          "output_type": "execute_result",
          "data": {
            "text/html": [
              "<div>\n",
              "<style scoped>\n",
              "    .dataframe tbody tr th:only-of-type {\n",
              "        vertical-align: middle;\n",
              "    }\n",
              "\n",
              "    .dataframe tbody tr th {\n",
              "        vertical-align: top;\n",
              "    }\n",
              "\n",
              "    .dataframe thead th {\n",
              "        text-align: right;\n",
              "    }\n",
              "</style>\n",
              "<table border=\"1\" class=\"dataframe\">\n",
              "  <thead>\n",
              "    <tr style=\"text-align: right;\">\n",
              "      <th></th>\n",
              "      <th>calwpct</th>\n",
              "      <th>mealpct</th>\n",
              "      <th>computer</th>\n",
              "      <th>testscr</th>\n",
              "      <th>compstu</th>\n",
              "      <th>expnstu</th>\n",
              "      <th>str</th>\n",
              "      <th>avginc</th>\n",
              "      <th>elpct</th>\n",
              "    </tr>\n",
              "  </thead>\n",
              "  <tbody>\n",
              "    <tr>\n",
              "      <th>0</th>\n",
              "      <td>0.510200</td>\n",
              "      <td>2.040800</td>\n",
              "      <td>67</td>\n",
              "      <td>690.799988</td>\n",
              "      <td>0.343590</td>\n",
              "      <td>6384.911133</td>\n",
              "      <td>17.889910</td>\n",
              "      <td>22.690001</td>\n",
              "      <td>0.000000</td>\n",
              "    </tr>\n",
              "    <tr>\n",
              "      <th>1</th>\n",
              "      <td>15.416700</td>\n",
              "      <td>47.916698</td>\n",
              "      <td>101</td>\n",
              "      <td>661.200012</td>\n",
              "      <td>0.420833</td>\n",
              "      <td>5099.380859</td>\n",
              "      <td>21.524664</td>\n",
              "      <td>9.824000</td>\n",
              "      <td>4.583333</td>\n",
              "    </tr>\n",
              "    <tr>\n",
              "      <th>2</th>\n",
              "      <td>55.032299</td>\n",
              "      <td>76.322601</td>\n",
              "      <td>169</td>\n",
              "      <td>643.599976</td>\n",
              "      <td>0.109032</td>\n",
              "      <td>5501.954590</td>\n",
              "      <td>18.697226</td>\n",
              "      <td>8.978000</td>\n",
              "      <td>30.000002</td>\n",
              "    </tr>\n",
              "    <tr>\n",
              "      <th>3</th>\n",
              "      <td>36.475399</td>\n",
              "      <td>77.049202</td>\n",
              "      <td>85</td>\n",
              "      <td>647.700012</td>\n",
              "      <td>0.349794</td>\n",
              "      <td>7101.831055</td>\n",
              "      <td>17.357143</td>\n",
              "      <td>8.978000</td>\n",
              "      <td>0.000000</td>\n",
              "    </tr>\n",
              "    <tr>\n",
              "      <th>4</th>\n",
              "      <td>33.108601</td>\n",
              "      <td>78.427002</td>\n",
              "      <td>171</td>\n",
              "      <td>640.849976</td>\n",
              "      <td>0.128090</td>\n",
              "      <td>5235.987793</td>\n",
              "      <td>18.671329</td>\n",
              "      <td>9.080333</td>\n",
              "      <td>13.857677</td>\n",
              "    </tr>\n",
              "  </tbody>\n",
              "</table>\n",
              "</div>"
            ],
            "text/plain": [
              "     calwpct    mealpct  computer  ...        str     avginc      elpct\n",
              "0   0.510200   2.040800        67  ...  17.889910  22.690001   0.000000\n",
              "1  15.416700  47.916698       101  ...  21.524664   9.824000   4.583333\n",
              "2  55.032299  76.322601       169  ...  18.697226   8.978000  30.000002\n",
              "3  36.475399  77.049202        85  ...  17.357143   8.978000   0.000000\n",
              "4  33.108601  78.427002       171  ...  18.671329   9.080333  13.857677\n",
              "\n",
              "[5 rows x 9 columns]"
            ]
          },
          "metadata": {
            "tags": []
          },
          "execution_count": 189
        }
      ]
    },
    {
      "cell_type": "markdown",
      "metadata": {
        "id": "G1IliMNvHJxA"
      },
      "source": [
        "### **1.1:**\n",
        "*Visualize the univariate distribution of the target feature and each of the three continuous explanatory variables that you think are likely to have a relationship with the target feature.*"
      ]
    },
    {
      "cell_type": "markdown",
      "metadata": {
        "id": "buyoYdEkIa7s"
      },
      "source": [
        "\n",
        "\n",
        "---\n",
        "\n",
        "\n",
        "Choosing 'str', 'avginc', and 'expnstu' as my 3 continuous variables.\n",
        "\n",
        "\n",
        "---\n",
        "\n"
      ]
    },
    {
      "cell_type": "code",
      "metadata": {
        "id": "VdB3ghvrOeME",
        "colab": {
          "base_uri": "https://localhost:8080/",
          "height": 1000
        },
        "outputId": "d8e9b104-2cb0-443b-e8be-b9462d455cb4"
      },
      "source": [
        "import matplotlib.pyplot as plt\n",
        "\n",
        "#Test Score Histogram\n",
        "plt.hist(data = df1_sub, x = 'testscr')\n",
        "plt.ylabel('Count')\n",
        "plt.title('Test Score')\n",
        "\n",
        "plt.show()\n",
        "\n",
        "#Student;Teacher ratio histogram\n",
        "plt.hist(data = df1_sub, x = 'str')\n",
        "plt.ylabel('Count')\n",
        "plt.title('Student:Teacher Ratio')\n",
        "\n",
        "plt.show()\n",
        "\n",
        "#District average income histogram\n",
        "plt.hist(data = df1_sub, x = 'avginc')\n",
        "plt.ylabel('Count')\n",
        "plt.title('District Average Income')\n",
        "\n",
        "plt.show()\n",
        "\n",
        "#Expenditure per student histogram\n",
        "plt.hist(data = df1_sub, x = 'expnstu')\n",
        "plt.ylabel('Count')\n",
        "plt.title('Expenditure per Student')\n",
        "\n",
        "plt.show()"
      ],
      "execution_count": 190,
      "outputs": [
        {
          "output_type": "display_data",
          "data": {
            "image/png": "[encoded data removed]",
            "text/plain": [
              "<Figure size 432x288 with 1 Axes>"
            ]
          },
          "metadata": {
            "tags": [],
            "needs_background": "light"
          }
        },
        {
          "output_type": "display_data",
          "data": {
            "image/png": "[encoded data removed]",
            "text/plain": [
              "<Figure size 432x288 with 1 Axes>"
            ]
          },
          "metadata": {
            "tags": [],
            "needs_background": "light"
          }
        },
        {
          "output_type": "display_data",
          "data": {
            "image/png": "[encoded data removed]",
            "text/plain": [
              "<Figure size 432x288 with 1 Axes>"
            ]
          },
          "metadata": {
            "tags": [],
            "needs_background": "light"
          }
        },
        {
          "output_type": "display_data",
          "data": {
            "image/png": "[encoded data removed]",
            "text/plain": [
              "<Figure size 432x288 with 1 Axes>"
            ]
          },
          "metadata": {
            "tags": [],
            "needs_background": "light"
          }
        }
      ]
    },
    {
      "cell_type": "markdown",
      "metadata": {
        "id": "F1FGrPXjkC4z"
      },
      "source": [
        "### **1.2:**\n",
        "*Visualize the dependency of the target on each feature from 1.1.*"
      ]
    },
    {
      "cell_type": "code",
      "metadata": {
        "id": "smtRKrVNkHU5",
        "colab": {
          "base_uri": "https://localhost:8080/",
          "height": 851
        },
        "outputId": "aff13211-0236-4fa3-b080-afabb17e17f1"
      },
      "source": [
        "\n",
        "plt.scatter(data = df1_sub, x = 'str', y = 'testscr')\n",
        "plt.xlabel('Student:Teacher Ratio')\n",
        "plt.ylabel('Test Score')\n",
        "plt.title('Test Score vs. S:T Ratio')\n",
        "\n",
        "plt.show()\n",
        "\n",
        "plt.scatter(data = df1_sub, x = 'avginc', y = 'testscr')\n",
        "plt.xlabel('District Average Income')\n",
        "plt.ylabel('Test Score')\n",
        "plt.title('Test Score vs. Avg. Income')\n",
        "\n",
        "plt.show()\n",
        "\n",
        "plt.scatter(data = df1_sub, x = 'expnstu', y = 'testscr')\n",
        "plt.xlabel('Expenditure per Student')\n",
        "plt.ylabel('Test Score')\n",
        "plt.title('Test Score vs. Exp. per Student')\n",
        "\n",
        "\n",
        "plt.show()"
      ],
      "execution_count": 191,
      "outputs": [
        {
          "output_type": "display_data",
          "data": {
            "image/png": "[encoded data removed]",
            "text/plain": [
              "<Figure size 432x288 with 1 Axes>"
            ]
          },
          "metadata": {
            "tags": [],
            "needs_background": "light"
          }
        },
        {
          "output_type": "display_data",
          "data": {
            "image/png": "[encoded data removed]",
            "text/plain": [
              "<Figure size 432x288 with 1 Axes>"
            ]
          },
          "metadata": {
            "tags": [],
            "needs_background": "light"
          }
        },
        {
          "output_type": "display_data",
          "data": {
            "image/png": "[encoded data removed]",
            "text/plain": [
              "<Figure size 432x288 with 1 Axes>"
            ]
          },
          "metadata": {
            "tags": [],
            "needs_background": "light"
          }
        }
      ]
    },
    {
      "cell_type": "markdown",
      "metadata": {
        "id": "xUQDezyspAWU"
      },
      "source": [
        "### **1.3:**\n",
        "*Split data in training and test set. Build models that evaluate the relationship between all available X variables in the California test dataset and the target variable. Evaluate KNN for regression, Linear Regression (OLS), Ridge, and Lasso using cross-validation with the default parameters. Does scaling the data with the StandardScaler help?*"
      ]
    },
    {
      "cell_type": "code",
      "metadata": {
        "colab": {
          "base_uri": "https://localhost:8080/",
          "height": 0
        },
        "id": "g_ZYgkqyebk2",
        "outputId": "938891ad-179c-4550-8486-9d3a1cc20b72"
      },
      "source": [
        "from sklearn.model_selection import train_test_split\n",
        "\n",
        "y = df1_sub['testscr']\n",
        "X = df1_sub.loc[:, df1_sub.columns != 'testscr']\n",
        "\n",
        "print(y[0:5])\n",
        "X.head()"
      ],
      "execution_count": 192,
      "outputs": [
        {
          "output_type": "stream",
          "text": [
            "0    690.799988\n",
            "1    661.200012\n",
            "2    643.599976\n",
            "3    647.700012\n",
            "4    640.849976\n",
            "Name: testscr, dtype: float64\n"
          ],
          "name": "stdout"
        },
        {
          "output_type": "execute_result",
          "data": {
            "text/html": [
              "<div>\n",
              "<style scoped>\n",
              "    .dataframe tbody tr th:only-of-type {\n",
              "        vertical-align: middle;\n",
              "    }\n",
              "\n",
              "    .dataframe tbody tr th {\n",
              "        vertical-align: top;\n",
              "    }\n",
              "\n",
              "    .dataframe thead th {\n",
              "        text-align: right;\n",
              "    }\n",
              "</style>\n",
              "<table border=\"1\" class=\"dataframe\">\n",
              "  <thead>\n",
              "    <tr style=\"text-align: right;\">\n",
              "      <th></th>\n",
              "      <th>calwpct</th>\n",
              "      <th>mealpct</th>\n",
              "      <th>computer</th>\n",
              "      <th>compstu</th>\n",
              "      <th>expnstu</th>\n",
              "      <th>str</th>\n",
              "      <th>avginc</th>\n",
              "      <th>elpct</th>\n",
              "    </tr>\n",
              "  </thead>\n",
              "  <tbody>\n",
              "    <tr>\n",
              "      <th>0</th>\n",
              "      <td>0.510200</td>\n",
              "      <td>2.040800</td>\n",
              "      <td>67</td>\n",
              "      <td>0.343590</td>\n",
              "      <td>6384.911133</td>\n",
              "      <td>17.889910</td>\n",
              "      <td>22.690001</td>\n",
              "      <td>0.000000</td>\n",
              "    </tr>\n",
              "    <tr>\n",
              "      <th>1</th>\n",
              "      <td>15.416700</td>\n",
              "      <td>47.916698</td>\n",
              "      <td>101</td>\n",
              "      <td>0.420833</td>\n",
              "      <td>5099.380859</td>\n",
              "      <td>21.524664</td>\n",
              "      <td>9.824000</td>\n",
              "      <td>4.583333</td>\n",
              "    </tr>\n",
              "    <tr>\n",
              "      <th>2</th>\n",
              "      <td>55.032299</td>\n",
              "      <td>76.322601</td>\n",
              "      <td>169</td>\n",
              "      <td>0.109032</td>\n",
              "      <td>5501.954590</td>\n",
              "      <td>18.697226</td>\n",
              "      <td>8.978000</td>\n",
              "      <td>30.000002</td>\n",
              "    </tr>\n",
              "    <tr>\n",
              "      <th>3</th>\n",
              "      <td>36.475399</td>\n",
              "      <td>77.049202</td>\n",
              "      <td>85</td>\n",
              "      <td>0.349794</td>\n",
              "      <td>7101.831055</td>\n",
              "      <td>17.357143</td>\n",
              "      <td>8.978000</td>\n",
              "      <td>0.000000</td>\n",
              "    </tr>\n",
              "    <tr>\n",
              "      <th>4</th>\n",
              "      <td>33.108601</td>\n",
              "      <td>78.427002</td>\n",
              "      <td>171</td>\n",
              "      <td>0.128090</td>\n",
              "      <td>5235.987793</td>\n",
              "      <td>18.671329</td>\n",
              "      <td>9.080333</td>\n",
              "      <td>13.857677</td>\n",
              "    </tr>\n",
              "  </tbody>\n",
              "</table>\n",
              "</div>"
            ],
            "text/plain": [
              "     calwpct    mealpct  computer  ...        str     avginc      elpct\n",
              "0   0.510200   2.040800        67  ...  17.889910  22.690001   0.000000\n",
              "1  15.416700  47.916698       101  ...  21.524664   9.824000   4.583333\n",
              "2  55.032299  76.322601       169  ...  18.697226   8.978000  30.000002\n",
              "3  36.475399  77.049202        85  ...  17.357143   8.978000   0.000000\n",
              "4  33.108601  78.427002       171  ...  18.671329   9.080333  13.857677\n",
              "\n",
              "[5 rows x 8 columns]"
            ]
          },
          "metadata": {
            "tags": []
          },
          "execution_count": 192
        }
      ]
    },
    {
      "cell_type": "markdown",
      "metadata": {
        "id": "h4tc8ZOErLBL"
      },
      "source": [
        "**Train-test splitting our data.**"
      ]
    },
    {
      "cell_type": "code",
      "metadata": {
        "colab": {
          "base_uri": "https://localhost:8080/",
          "height": 296
        },
        "id": "iVl4uZ1efUDN",
        "outputId": "5a5df743-62ce-4887-9226-5073fd12ed66"
      },
      "source": [
        "X_train, X_test, y_train, y_test = train_test_split(X, y, random_state=0)\n",
        "\n",
        "print(y_train[0:5])\n",
        "X_train.head()"
      ],
      "execution_count": 193,
      "outputs": [
        {
          "output_type": "stream",
          "text": [
            "81     635.750000\n",
            "300    665.349976\n",
            "415    704.300049\n",
            "113    640.750000\n",
            "250    659.349976\n",
            "Name: testscr, dtype: float64\n"
          ],
          "name": "stdout"
        },
        {
          "output_type": "execute_result",
          "data": {
            "text/html": [
              "<div>\n",
              "<style scoped>\n",
              "    .dataframe tbody tr th:only-of-type {\n",
              "        vertical-align: middle;\n",
              "    }\n",
              "\n",
              "    .dataframe tbody tr th {\n",
              "        vertical-align: top;\n",
              "    }\n",
              "\n",
              "    .dataframe thead th {\n",
              "        text-align: right;\n",
              "    }\n",
              "</style>\n",
              "<table border=\"1\" class=\"dataframe\">\n",
              "  <thead>\n",
              "    <tr style=\"text-align: right;\">\n",
              "      <th></th>\n",
              "      <th>calwpct</th>\n",
              "      <th>mealpct</th>\n",
              "      <th>computer</th>\n",
              "      <th>compstu</th>\n",
              "      <th>expnstu</th>\n",
              "      <th>str</th>\n",
              "      <th>avginc</th>\n",
              "      <th>elpct</th>\n",
              "    </tr>\n",
              "  </thead>\n",
              "  <tbody>\n",
              "    <tr>\n",
              "      <th>81</th>\n",
              "      <td>29.9363</td>\n",
              "      <td>93.630600</td>\n",
              "      <td>8</td>\n",
              "      <td>0.025478</td>\n",
              "      <td>6118.710449</td>\n",
              "      <td>16.311687</td>\n",
              "      <td>7.385000</td>\n",
              "      <td>13.057324</td>\n",
              "    </tr>\n",
              "    <tr>\n",
              "      <th>300</th>\n",
              "      <td>5.4864</td>\n",
              "      <td>24.747101</td>\n",
              "      <td>326</td>\n",
              "      <td>0.126898</td>\n",
              "      <td>5400.000000</td>\n",
              "      <td>18.615942</td>\n",
              "      <td>17.369446</td>\n",
              "      <td>15.336707</td>\n",
              "    </tr>\n",
              "    <tr>\n",
              "      <th>415</th>\n",
              "      <td>0.1016</td>\n",
              "      <td>3.556900</td>\n",
              "      <td>195</td>\n",
              "      <td>0.198171</td>\n",
              "      <td>7290.338867</td>\n",
              "      <td>16.474134</td>\n",
              "      <td>28.716999</td>\n",
              "      <td>5.995935</td>\n",
              "    </tr>\n",
              "    <tr>\n",
              "      <th>113</th>\n",
              "      <td>12.2791</td>\n",
              "      <td>71.023804</td>\n",
              "      <td>499</td>\n",
              "      <td>0.076557</td>\n",
              "      <td>5172.019531</td>\n",
              "      <td>19.626617</td>\n",
              "      <td>14.242901</td>\n",
              "      <td>43.494938</td>\n",
              "    </tr>\n",
              "    <tr>\n",
              "      <th>250</th>\n",
              "      <td>4.0395</td>\n",
              "      <td>31.370899</td>\n",
              "      <td>224</td>\n",
              "      <td>0.097603</td>\n",
              "      <td>4631.243652</td>\n",
              "      <td>22.281553</td>\n",
              "      <td>14.603000</td>\n",
              "      <td>13.986929</td>\n",
              "    </tr>\n",
              "  </tbody>\n",
              "</table>\n",
              "</div>"
            ],
            "text/plain": [
              "     calwpct    mealpct  computer  ...        str     avginc      elpct\n",
              "81   29.9363  93.630600         8  ...  16.311687   7.385000  13.057324\n",
              "300   5.4864  24.747101       326  ...  18.615942  17.369446  15.336707\n",
              "415   0.1016   3.556900       195  ...  16.474134  28.716999   5.995935\n",
              "113  12.2791  71.023804       499  ...  19.626617  14.242901  43.494938\n",
              "250   4.0395  31.370899       224  ...  22.281553  14.603000  13.986929\n",
              "\n",
              "[5 rows x 8 columns]"
            ]
          },
          "metadata": {
            "tags": []
          },
          "execution_count": 193
        }
      ]
    },
    {
      "cell_type": "markdown",
      "metadata": {
        "id": "ufHvQoZmrPj_"
      },
      "source": [
        "####**KNN Regression and Cross Validation**"
      ]
    },
    {
      "cell_type": "code",
      "metadata": {
        "colab": {
          "base_uri": "https://localhost:8080/"
        },
        "id": "IxBM0lABf2vU",
        "outputId": "90970809-98bf-42c3-e0fd-8cd03b42eb83"
      },
      "source": [
        "from sklearn.neighbors import KNeighborsRegressor\n",
        "from sklearn.preprocessing import StandardScaler\n",
        "\n",
        "knn = KNeighborsRegressor(n_neighbors=5)\n",
        "knn.fit(X_train, y_train)\n",
        "\n",
        "#Print accuracy rounded to two decimal places\n",
        "print(\"accuracy: {:.2f}\".format(knn.score(X_test, y_test)))"
      ],
      "execution_count": 194,
      "outputs": [
        {
          "output_type": "stream",
          "text": [
            "accuracy: 0.21\n"
          ],
          "name": "stdout"
        }
      ]
    },
    {
      "cell_type": "code",
      "metadata": {
        "colab": {
          "base_uri": "https://localhost:8080/"
        },
        "id": "zydXNUJsqTra",
        "outputId": "0a5a21ba-830e-49d3-ba4f-d58a65b5f287"
      },
      "source": [
        "kfold = KFold(n_splits=5)\n",
        "rkf = RepeatedKFold(n_splits=5, n_repeats=10)\n",
        "\n",
        "print(\"KFold:\\n{}\".format(\n",
        "cross_val_score(KNeighborsRegressor(n_neighbors=5), X_train, y_train, cv=kfold).mean()))\n",
        "\n",
        "print(\"RepeatedKFold:\\n{}\".format(\n",
        "cross_val_score(KNeighborsRegressor(n_neighbors=5), X_train, y_train, cv=rkf).mean()))\n",
        "\n",
        "# Could not conduct stratified k-fold since our target variable is continuous"
      ],
      "execution_count": 281,
      "outputs": [
        {
          "output_type": "stream",
          "text": [
            "KFold:\n",
            "0.1556942332254682\n",
            "RepeatedKFold:\n",
            "0.12566822976836378\n"
          ],
          "name": "stdout"
        }
      ]
    },
    {
      "cell_type": "markdown",
      "metadata": {
        "id": "V2UHrJAI0eu1"
      },
      "source": [
        "**Using StandardScaler()**"
      ]
    },
    {
      "cell_type": "code",
      "metadata": {
        "colab": {
          "base_uri": "https://localhost:8080/"
        },
        "id": "FIoobIc6uWPv",
        "outputId": "17a0acd2-24f3-4674-b136-978d77cd4069"
      },
      "source": [
        "knn_pipe = make_pipeline(StandardScaler(), KNeighborsRegressor(n_neighbors=5))\n",
        "\n",
        "knn_pipe.fit(X_train, y_train)\n",
        "knn_pipe.score(X_test, y_test)"
      ],
      "execution_count": 196,
      "outputs": [
        {
          "output_type": "execute_result",
          "data": {
            "text/plain": [
              "0.7324525914506206"
            ]
          },
          "metadata": {
            "tags": []
          },
          "execution_count": 196
        }
      ]
    },
    {
      "cell_type": "markdown",
      "metadata": {
        "id": "BmJ6IJr7vYoF"
      },
      "source": [
        "\n",
        "\n",
        "---\n",
        "\n",
        "\n",
        "We see a significant improvement in our r2 score (compared to that of CV) when scaling our data using StandardScaler().\n",
        "\n",
        "\n",
        "---\n",
        "\n"
      ]
    },
    {
      "cell_type": "markdown",
      "metadata": {
        "id": "RKFUoW-Kr7Ts"
      },
      "source": [
        "####**Linear (OLS) Regression and CV**"
      ]
    },
    {
      "cell_type": "code",
      "metadata": {
        "colab": {
          "base_uri": "https://localhost:8080/"
        },
        "id": "OvO_8sl8Sjbu",
        "outputId": "92f1dd79-e731-4b07-c6cf-6a79317569bd"
      },
      "source": [
        "from sklearn.linear_model import LinearRegression\n",
        "\n",
        "lr = LinearRegression().fit(X_train, y_train)\n",
        "\n",
        "print(\"lr.coef_: {}\".format(lr.coef_))\n",
        "print(\"lr.intercept_: {}\".format(lr.intercept_))\n",
        "print(\"Number of features used: {}\".format(np.sum(lr.coef_ != 0)))"
      ],
      "execution_count": 197,
      "outputs": [
        {
          "output_type": "stream",
          "text": [
            "lr.coef_: [-1.32150840e-01 -3.30737941e-01 -5.12590333e-04  1.27954536e+01\n",
            "  1.95681888e-03 -1.90768794e-01  6.10450690e-01 -2.06547163e-01]\n",
            "lr.intercept_: 656.8128074340533\n",
            "Number of features used: 8\n"
          ],
          "name": "stdout"
        }
      ]
    },
    {
      "cell_type": "code",
      "metadata": {
        "colab": {
          "base_uri": "https://localhost:8080/"
        },
        "id": "xwZMevRN0DTX",
        "outputId": "48f620c0-a6fd-4419-c56e-acbfe01c49f6"
      },
      "source": [
        "print(\"Training set score: {:.2f}\".format(lr.score(X_train, y_train)))\n",
        "print(\"Test set score: {:.2f}\".format(lr.score(X_test, y_test)))\n",
        "\n",
        "# Using CV to get an average r2 score value for our model\n",
        "print(\"CV score: {:.3f}\".format(cross_val_score(LinearRegression(), X_train, y_train, cv=10, scoring='r2').mean()))"
      ],
      "execution_count": 282,
      "outputs": [
        {
          "output_type": "stream",
          "text": [
            "Training set score: 0.81\n",
            "Test set score: 0.80\n",
            "CV score: 0.781\n"
          ],
          "name": "stdout"
        }
      ]
    },
    {
      "cell_type": "markdown",
      "metadata": {
        "id": "FD67sFAL1skh"
      },
      "source": [
        "**Using StandardScaler()**"
      ]
    },
    {
      "cell_type": "code",
      "metadata": {
        "colab": {
          "base_uri": "https://localhost:8080/"
        },
        "id": "ffuWR7E112xy",
        "outputId": "08f56b74-520c-4d2f-db32-0dc92388f688"
      },
      "source": [
        "lr_pipe = make_pipeline(StandardScaler(), LinearRegression())\n",
        "\n",
        "lr_pipe.fit(X_train, y_train)\n",
        "lr_pipe.score(X_test, y_test)"
      ],
      "execution_count": 199,
      "outputs": [
        {
          "output_type": "execute_result",
          "data": {
            "text/plain": [
              "0.8007428276308416"
            ]
          },
          "metadata": {
            "tags": []
          },
          "execution_count": 199
        }
      ]
    },
    {
      "cell_type": "markdown",
      "metadata": {
        "id": "XepqLz1T23ZO"
      },
      "source": [
        "\n",
        "\n",
        "---\n",
        "\n",
        "\n",
        "Little to no improvement in our r2 score (compared to that of CV) when we scale using StandardScaler().\n",
        "\n",
        "\n",
        "---\n",
        "\n"
      ]
    },
    {
      "cell_type": "markdown",
      "metadata": {
        "id": "tglL8LqDsJZW"
      },
      "source": [
        "####**Ridge Regression and CV**"
      ]
    },
    {
      "cell_type": "code",
      "metadata": {
        "colab": {
          "base_uri": "https://localhost:8080/"
        },
        "id": "QJJqUgb8sKDv",
        "outputId": "ff15d837-2903-431c-9e59-7877e7011371"
      },
      "source": [
        "from sklearn.linear_model import Ridge\n",
        "\n",
        "ridge = Ridge().fit(X_train, y_train)\n",
        "\n",
        "print(\"ridge.coef_: {}\".format(ridge.coef_))\n",
        "print(\"ridge.intercept_: {}\".format(ridge.intercept_))\n",
        "print(\"Number of features used: {}\".format(np.sum(ridge.coef_ != 0)))"
      ],
      "execution_count": 200,
      "outputs": [
        {
          "output_type": "stream",
          "text": [
            "ridge.coef_: [-1.38346301e-01 -3.29675285e-01 -4.31730828e-04  6.67994401e+00\n",
            "  2.06825258e-03 -2.39309651e-01  6.09451144e-01 -2.11324005e-01]\n",
            "ridge.intercept_: 658.1112277865584\n",
            "Number of features used: 8\n"
          ],
          "name": "stdout"
        }
      ]
    },
    {
      "cell_type": "code",
      "metadata": {
        "colab": {
          "base_uri": "https://localhost:8080/"
        },
        "id": "Q-FtphrJ3-Vd",
        "outputId": "46abb04c-e95e-461d-f216-5bec1ade6ced"
      },
      "source": [
        "print(\"Training set score: {:.2f}\".format(ridge.score(X_train, y_train)))\n",
        "print(\"Test set score: {:.2f}\".format(ridge.score(X_test, y_test)))\n",
        "\n",
        "# Using CV to get an average r2 score value for our model\n",
        "print(\"CV score: {:.3f}\".format(cross_val_score(Ridge(), X_train, y_train, cv=10, scoring='r2').mean()))"
      ],
      "execution_count": 283,
      "outputs": [
        {
          "output_type": "stream",
          "text": [
            "Training set score: 0.81\n",
            "Test set score: 0.80\n",
            "CV score: 0.781\n"
          ],
          "name": "stdout"
        }
      ]
    },
    {
      "cell_type": "markdown",
      "metadata": {
        "id": "usH01GLw4K7w"
      },
      "source": [
        "**Using StandardScaler()**"
      ]
    },
    {
      "cell_type": "code",
      "metadata": {
        "colab": {
          "base_uri": "https://localhost:8080/"
        },
        "id": "AkTy62ze4Lkc",
        "outputId": "10f4c116-dfca-4280-a987-7519e7749cea"
      },
      "source": [
        "ridge_pipe = make_pipeline(StandardScaler(), Ridge())\n",
        "\n",
        "ridge_pipe.fit(X_train, y_train)\n",
        "ridge_pipe.score(X_test, y_test)"
      ],
      "execution_count": 202,
      "outputs": [
        {
          "output_type": "execute_result",
          "data": {
            "text/plain": [
              "0.8001192232310499"
            ]
          },
          "metadata": {
            "tags": []
          },
          "execution_count": 202
        }
      ]
    },
    {
      "cell_type": "markdown",
      "metadata": {
        "id": "nI3N6Tqp443_"
      },
      "source": [
        "\n",
        "\n",
        "---\n",
        "\n",
        "\n",
        "Little to no improvement in our r2 score (compared to that of CV) when we scale using StandardScaler().\n",
        "\n",
        "\n",
        "---\n",
        "\n"
      ]
    },
    {
      "cell_type": "markdown",
      "metadata": {
        "id": "2bfgDU1esPOO"
      },
      "source": [
        "####**Lasso Regression and CV**"
      ]
    },
    {
      "cell_type": "code",
      "metadata": {
        "colab": {
          "base_uri": "https://localhost:8080/"
        },
        "id": "_u9ojWCdsSQe",
        "outputId": "4a842d07-f138-4d48-8881-8e66ea1ed559"
      },
      "source": [
        "from sklearn.linear_model import Lasso\n",
        "\n",
        "lasso = Lasso().fit(X_train, y_train)\n",
        "\n",
        "print(\"lasso.coef_: {}\".format(lasso.coef_))\n",
        "print(\"lasso.intercept_: {}\".format(lasso.intercept_))\n",
        "print(\"Number of features used: {}\".format(np.sum(lasso.coef_ != 0)))"
      ],
      "execution_count": 203,
      "outputs": [
        {
          "output_type": "stream",
          "text": [
            "lasso.coef_: [-1.31373867e-01 -3.43282869e-01 -5.64140035e-04  0.00000000e+00\n",
            "  2.78345192e-03 -0.00000000e+00  5.73054934e-01 -2.08622824e-01]\n",
            "lasso.intercept_: 651.6030972255916\n",
            "Number of features used: 6\n"
          ],
          "name": "stdout"
        }
      ]
    },
    {
      "cell_type": "markdown",
      "metadata": {
        "id": "T1IU33jn6FIy"
      },
      "source": [
        "\n",
        "\n",
        "---\n",
        "\n",
        "\n",
        "We can see here that compared to OLS and Ridge regression (which both used 8 independent variables in their models), Lasso regression yields a more sparse model that only uses 6 independent variables instead.\n",
        "\n",
        "\n",
        "---\n",
        "\n"
      ]
    },
    {
      "cell_type": "code",
      "metadata": {
        "colab": {
          "base_uri": "https://localhost:8080/"
        },
        "id": "jo7B-FMr54jS",
        "outputId": "a5103b1b-8023-4819-ea23-0bfbd54f52f6"
      },
      "source": [
        "print(\"Training set score: {:.2f}\".format(lasso.score(X_train, y_train)))\n",
        "print(\"Test set score: {:.2f}\".format(lasso.score(X_test, y_test)))\n",
        "\n",
        "print(\"CV score: {:.3f}\".format(cross_val_score(Lasso(), X_train, y_train, cv=10, scoring='r2').mean()))"
      ],
      "execution_count": 284,
      "outputs": [
        {
          "output_type": "stream",
          "text": [
            "Training set score: 0.81\n",
            "Test set score: 0.80\n",
            "CV score: 0.781\n"
          ],
          "name": "stdout"
        }
      ]
    },
    {
      "cell_type": "markdown",
      "metadata": {
        "id": "pik9aB617eDS"
      },
      "source": [
        "**Using StandardScaler()**"
      ]
    },
    {
      "cell_type": "code",
      "metadata": {
        "colab": {
          "base_uri": "https://localhost:8080/"
        },
        "id": "kmiALB_t7e8U",
        "outputId": "e9fe3e77-4eb6-4818-9c6a-6670ec65b53e"
      },
      "source": [
        "lasso_pipe = make_pipeline(StandardScaler(), Lasso())\n",
        "\n",
        "lasso_pipe.fit(X_train, y_train)\n",
        "lasso_pipe.score(X_test, y_test)"
      ],
      "execution_count": 205,
      "outputs": [
        {
          "output_type": "execute_result",
          "data": {
            "text/plain": [
              "0.7942522109680937"
            ]
          },
          "metadata": {
            "tags": []
          },
          "execution_count": 205
        }
      ]
    },
    {
      "cell_type": "markdown",
      "metadata": {
        "id": "izE0FE3nvz2L"
      },
      "source": [
        "### **1.4:**\n",
        "*Tune the parameters of the models where possible using GridSearchCV. Do the results improve?*"
      ]
    },
    {
      "cell_type": "markdown",
      "metadata": {
        "id": "yk5o6tBe_NdO"
      },
      "source": [
        "####**For KNN Regression**"
      ]
    },
    {
      "cell_type": "code",
      "metadata": {
        "colab": {
          "base_uri": "https://localhost:8080/"
        },
        "id": "UXXbeUpw_RgQ",
        "outputId": "f9174bf6-ce6d-4e68-e984-98f3d084b11b"
      },
      "source": [
        "from sklearn.model_selection import GridSearchCV\n",
        "\n",
        "p_grid_knn = {'kneighborsregressor__n_neighbors': [1,3,5,7,9,11,13,15]}\n",
        "\n",
        "grid_knn = GridSearchCV(knn_pipe, p_grid_knn, cv=10)\n",
        "grid_knn.fit(X_train, y_train)\n",
        "\n",
        "print(\"best mean cross-validation score: {:.3f}\".format(grid_knn.best_score_))\n",
        "print(\"best parameters: {}\".format(grid_knn.best_params_))\n",
        "print(\"test-set score: {:.3f}\".format(grid_knn.score(X_test, y_test)))"
      ],
      "execution_count": 206,
      "outputs": [
        {
          "output_type": "stream",
          "text": [
            "best mean cross-validation score: 0.752\n",
            "best parameters: {'kneighborsregressor__n_neighbors': 11}\n",
            "test-set score: 0.695\n"
          ],
          "name": "stdout"
        }
      ]
    },
    {
      "cell_type": "markdown",
      "metadata": {
        "id": "2hBqgo1cC3KY"
      },
      "source": [
        "\n",
        "\n",
        "---\n",
        "\n",
        "\n",
        "Our ideal k number of neighbors appears to be 11 rather than the default of 5. Our r2 scores are also much better than before we tuned for parameters.\n",
        "\n",
        "\n",
        "---\n",
        "\n"
      ]
    },
    {
      "cell_type": "markdown",
      "metadata": {
        "id": "ZuKmrmwrCJ7a"
      },
      "source": [
        "####**For Ridge Regression**"
      ]
    },
    {
      "cell_type": "code",
      "metadata": {
        "colab": {
          "base_uri": "https://localhost:8080/"
        },
        "id": "sbmeoLl8CMHT",
        "outputId": "1ccf2f71-dc83-423e-be94-5a67d11ff06c"
      },
      "source": [
        "p_grid_rid = {'ridge__alpha': [0.001, 0.01, 0.1, 1, 10, 100, 1000]}\n",
        "\n",
        "grid_rid = GridSearchCV(ridge_pipe, p_grid_rid, cv=10)\n",
        "grid_rid.fit(X_train, y_train)\n",
        "\n",
        "print(\"best mean cross-validation score: {:.3f}\".format(grid_rid.best_score_))\n",
        "print(\"best parameters: {}\".format(grid_rid.best_params_))\n",
        "print(\"test-set score: {:.3f}\".format(grid_rid.score(X_test, y_test)))"
      ],
      "execution_count": 207,
      "outputs": [
        {
          "output_type": "stream",
          "text": [
            "best mean cross-validation score: 0.782\n",
            "best parameters: {'ridge__alpha': 10}\n",
            "test-set score: 0.795\n"
          ],
          "name": "stdout"
        }
      ]
    },
    {
      "cell_type": "markdown",
      "metadata": {
        "id": "cs9bT3gGC9Ex"
      },
      "source": [
        "\n",
        "\n",
        "---\n",
        "\n",
        "\n",
        "Our ideal tuning parameter for our Ridge model is lambda = 10, compared to the default value of 1. No significant improvement to our r2 scores after tuning for parameters.\n",
        "\n",
        "\n",
        "---\n",
        "\n"
      ]
    },
    {
      "cell_type": "markdown",
      "metadata": {
        "id": "a26jSZEaCzVV"
      },
      "source": [
        "####**For Lasso Regression**"
      ]
    },
    {
      "cell_type": "code",
      "metadata": {
        "colab": {
          "base_uri": "https://localhost:8080/"
        },
        "id": "cpLKnnt8DRdW",
        "outputId": "9feaa0e0-dd7c-448d-8ab0-62852cdb4532"
      },
      "source": [
        "p_grid_las = {'lasso__alpha': [0.001, 0.01, 0.1, 1, 10, 100, 1000]}\n",
        "\n",
        "grid_las = GridSearchCV(lasso_pipe, p_grid_las, cv=10)\n",
        "grid_las.fit(X_train, y_train)\n",
        "\n",
        "print(\"best mean cross-validation score: {:.3f}\".format(grid_las.best_score_))\n",
        "print(\"best parameters: {}\".format(grid_las.best_params_))\n",
        "print(\"test-set score: {:.3f}\".format(grid_las.score(X_test, y_test)))"
      ],
      "execution_count": 208,
      "outputs": [
        {
          "output_type": "stream",
          "text": [
            "best mean cross-validation score: 0.781\n",
            "best parameters: {'lasso__alpha': 0.1}\n",
            "test-set score: 0.801\n"
          ],
          "name": "stdout"
        }
      ]
    },
    {
      "cell_type": "markdown",
      "metadata": {
        "id": "PJjWeklcDntl"
      },
      "source": [
        "\n",
        "\n",
        "---\n",
        "\n",
        "\n",
        "Our ideal tuning parameter for our Lasso model is lambda = 0.1, compared to the default of 1. No significant improvement to our r2 scores after tuning for parameters.\n",
        "\n",
        "\n",
        "---\n",
        "\n"
      ]
    },
    {
      "cell_type": "markdown",
      "metadata": {
        "id": "eKCsx56qxUoE"
      },
      "source": [
        "### **1.5:**\n",
        "*Compare the coefficients of your two best linear models (not knn), do they agree on which features are important?*"
      ]
    },
    {
      "cell_type": "markdown",
      "metadata": {
        "id": "9wVCOt8oEuMC"
      },
      "source": [
        "**Ridge Model**"
      ]
    },
    {
      "cell_type": "code",
      "metadata": {
        "colab": {
          "base_uri": "https://localhost:8080/"
        },
        "id": "wOfOknB7Epyu",
        "outputId": "1e766640-0cb9-4d50-8da8-68bff3d2a918"
      },
      "source": [
        "print(\"ridge.coef_: {}\".format(ridge.coef_))\n",
        "print(\"ridge.intercept_: {}\".format(ridge.intercept_))\n",
        "print(\"Number of features used: {}\".format(np.sum(ridge.coef_ != 0)))"
      ],
      "execution_count": 209,
      "outputs": [
        {
          "output_type": "stream",
          "text": [
            "ridge.coef_: [-1.38346301e-01 -3.29675285e-01 -4.31730828e-04  6.67994401e+00\n",
            "  2.06825258e-03 -2.39309651e-01  6.09451144e-01 -2.11324005e-01]\n",
            "ridge.intercept_: 658.1112277865584\n",
            "Number of features used: 8\n"
          ],
          "name": "stdout"
        }
      ]
    },
    {
      "cell_type": "markdown",
      "metadata": {
        "id": "hbeN_ftLEwyZ"
      },
      "source": [
        "**Lasso Model**"
      ]
    },
    {
      "cell_type": "code",
      "metadata": {
        "colab": {
          "base_uri": "https://localhost:8080/"
        },
        "id": "mVm0tYW2EygX",
        "outputId": "b1c7ce51-14af-4c1e-acd2-9e89aa959f3e"
      },
      "source": [
        "print(\"lasso.coef_: {}\".format(lasso.coef_))\n",
        "print(\"lasso.intercept_: {}\".format(lasso.intercept_))\n",
        "print(\"Number of features used: {}\".format(np.sum(lasso.coef_ != 0)))"
      ],
      "execution_count": 210,
      "outputs": [
        {
          "output_type": "stream",
          "text": [
            "lasso.coef_: [-1.31373867e-01 -3.43282869e-01 -5.64140035e-04  0.00000000e+00\n",
            "  2.78345192e-03 -0.00000000e+00  5.73054934e-01 -2.08622824e-01]\n",
            "lasso.intercept_: 651.6030972255916\n",
            "Number of features used: 6\n"
          ],
          "name": "stdout"
        }
      ]
    },
    {
      "cell_type": "markdown",
      "metadata": {
        "id": "iw7lIQKdxf9L"
      },
      "source": [
        "\n",
        "\n",
        "---\n",
        "\n",
        "\n",
        "We see that our Lasso model is more sparse with only 6 predictors used compared to the Ridge model's 8. One could see from the coefficient values that the Lasso model resulted in 2 of the predictors found in the Ridge model to be assigned a zero coefficient value, and thus eliminated from the model. Besides the zero coefficents, all other coefficients seem to be approximately similar with the same magnitude.\n",
        "\n",
        "---\n",
        "\n"
      ]
    },
    {
      "cell_type": "markdown",
      "metadata": {
        "id": "l_yh6ilXxguf"
      },
      "source": [
        "### **1.6:**\n",
        "*Discuss which final model you would choose to predict new data.*"
      ]
    },
    {
      "cell_type": "markdown",
      "metadata": {
        "id": "10mpN9hXxorr"
      },
      "source": [
        "\n",
        "\n",
        "---\n",
        "\n",
        "I would use the Lasso model since we did not have many predictor variables to start with, so having a more sparse model (compared to Ridge), since bias and MSE are in general smaller in Lasso when we have relatively few predictors.\n",
        "\n",
        "\n",
        "---\n",
        "\n"
      ]
    },
    {
      "cell_type": "markdown",
      "metadata": {
        "id": "HrX5EMhFTLVW"
      },
      "source": [
        "##***Part 2***"
      ]
    },
    {
      "cell_type": "markdown",
      "metadata": {
        "id": "VkYzkugpTUJV"
      },
      "source": [
        "###**2.0**\n",
        "*First, import the red and the white wine csv files into separate pandas dataframes from the following website:*\n",
        "\n",
        "https://archive.ics.uci.edu/ml/machine-learning-databases/wine-quality\n",
        "\n",
        "*(Note: you need to adjust the argument for read_csv() from sep=',' to sep=';')*\n",
        "\n",
        "*Add a new column to each data frame called \"winetype\".  For the white wine dataset label the values in this column with a 0, indicating white wine.  For the red wine dataset, label values with a 1, indicating red wine.  Combine both datasets into a single dataframe.*\n",
        "\n",
        "*The target data (i.e. the dependent variable) is \"winetype\".*"
      ]
    },
    {
      "cell_type": "markdown",
      "metadata": {
        "id": "xy9vVYC2Xdkd"
      },
      "source": [
        "**Reading in both datasets and adding the 'winetype' column to each.**"
      ]
    },
    {
      "cell_type": "code",
      "metadata": {
        "colab": {
          "base_uri": "https://localhost:8080/",
          "height": 195
        },
        "id": "adPaOqLxVsr-",
        "outputId": "50a4d24d-32dd-408f-d4e2-a7fd5751189b"
      },
      "source": [
        "#Reading in red wine dataset and adding an extra column in which all the values in it equals to 1\n",
        "df_red = pd.read_csv(\"https://archive.ics.uci.edu/ml/machine-learning-databases/wine-quality/winequality-red.csv\", sep = ';')\n",
        "df_red['winetype'] = 1\n",
        "df_red.head()"
      ],
      "execution_count": 211,
      "outputs": [
        {
          "output_type": "execute_result",
          "data": {
            "text/html": [
              "<div>\n",
              "<style scoped>\n",
              "    .dataframe tbody tr th:only-of-type {\n",
              "        vertical-align: middle;\n",
              "    }\n",
              "\n",
              "    .dataframe tbody tr th {\n",
              "        vertical-align: top;\n",
              "    }\n",
              "\n",
              "    .dataframe thead th {\n",
              "        text-align: right;\n",
              "    }\n",
              "</style>\n",
              "<table border=\"1\" class=\"dataframe\">\n",
              "  <thead>\n",
              "    <tr style=\"text-align: right;\">\n",
              "      <th></th>\n",
              "      <th>fixed acidity</th>\n",
              "      <th>volatile acidity</th>\n",
              "      <th>citric acid</th>\n",
              "      <th>residual sugar</th>\n",
              "      <th>chlorides</th>\n",
              "      <th>free sulfur dioxide</th>\n",
              "      <th>total sulfur dioxide</th>\n",
              "      <th>density</th>\n",
              "      <th>pH</th>\n",
              "      <th>sulphates</th>\n",
              "      <th>alcohol</th>\n",
              "      <th>quality</th>\n",
              "      <th>winetype</th>\n",
              "    </tr>\n",
              "  </thead>\n",
              "  <tbody>\n",
              "    <tr>\n",
              "      <th>0</th>\n",
              "      <td>7.4</td>\n",
              "      <td>0.70</td>\n",
              "      <td>0.00</td>\n",
              "      <td>1.9</td>\n",
              "      <td>0.076</td>\n",
              "      <td>11.0</td>\n",
              "      <td>34.0</td>\n",
              "      <td>0.9978</td>\n",
              "      <td>3.51</td>\n",
              "      <td>0.56</td>\n",
              "      <td>9.4</td>\n",
              "      <td>5</td>\n",
              "      <td>1</td>\n",
              "    </tr>\n",
              "    <tr>\n",
              "      <th>1</th>\n",
              "      <td>7.8</td>\n",
              "      <td>0.88</td>\n",
              "      <td>0.00</td>\n",
              "      <td>2.6</td>\n",
              "      <td>0.098</td>\n",
              "      <td>25.0</td>\n",
              "      <td>67.0</td>\n",
              "      <td>0.9968</td>\n",
              "      <td>3.20</td>\n",
              "      <td>0.68</td>\n",
              "      <td>9.8</td>\n",
              "      <td>5</td>\n",
              "      <td>1</td>\n",
              "    </tr>\n",
              "    <tr>\n",
              "      <th>2</th>\n",
              "      <td>7.8</td>\n",
              "      <td>0.76</td>\n",
              "      <td>0.04</td>\n",
              "      <td>2.3</td>\n",
              "      <td>0.092</td>\n",
              "      <td>15.0</td>\n",
              "      <td>54.0</td>\n",
              "      <td>0.9970</td>\n",
              "      <td>3.26</td>\n",
              "      <td>0.65</td>\n",
              "      <td>9.8</td>\n",
              "      <td>5</td>\n",
              "      <td>1</td>\n",
              "    </tr>\n",
              "    <tr>\n",
              "      <th>3</th>\n",
              "      <td>11.2</td>\n",
              "      <td>0.28</td>\n",
              "      <td>0.56</td>\n",
              "      <td>1.9</td>\n",
              "      <td>0.075</td>\n",
              "      <td>17.0</td>\n",
              "      <td>60.0</td>\n",
              "      <td>0.9980</td>\n",
              "      <td>3.16</td>\n",
              "      <td>0.58</td>\n",
              "      <td>9.8</td>\n",
              "      <td>6</td>\n",
              "      <td>1</td>\n",
              "    </tr>\n",
              "    <tr>\n",
              "      <th>4</th>\n",
              "      <td>7.4</td>\n",
              "      <td>0.70</td>\n",
              "      <td>0.00</td>\n",
              "      <td>1.9</td>\n",
              "      <td>0.076</td>\n",
              "      <td>11.0</td>\n",
              "      <td>34.0</td>\n",
              "      <td>0.9978</td>\n",
              "      <td>3.51</td>\n",
              "      <td>0.56</td>\n",
              "      <td>9.4</td>\n",
              "      <td>5</td>\n",
              "      <td>1</td>\n",
              "    </tr>\n",
              "  </tbody>\n",
              "</table>\n",
              "</div>"
            ],
            "text/plain": [
              "   fixed acidity  volatile acidity  citric acid  ...  alcohol  quality  winetype\n",
              "0            7.4              0.70         0.00  ...      9.4        5         1\n",
              "1            7.8              0.88         0.00  ...      9.8        5         1\n",
              "2            7.8              0.76         0.04  ...      9.8        5         1\n",
              "3           11.2              0.28         0.56  ...      9.8        6         1\n",
              "4            7.4              0.70         0.00  ...      9.4        5         1\n",
              "\n",
              "[5 rows x 13 columns]"
            ]
          },
          "metadata": {
            "tags": []
          },
          "execution_count": 211
        }
      ]
    },
    {
      "cell_type": "code",
      "metadata": {
        "colab": {
          "base_uri": "https://localhost:8080/",
          "height": 195
        },
        "id": "HBbDDN1dWipA",
        "outputId": "55e10e36-0574-4947-946c-b36205d37c24"
      },
      "source": [
        "#Reading in white wine dataset and adding an extra column in which all the values in it equals to 0\n",
        "df_wht = pd.read_csv(\"https://archive.ics.uci.edu/ml/machine-learning-databases/wine-quality/winequality-white.csv\", sep = ';')\n",
        "df_wht['winetype'] = 0\n",
        "df_wht.head()"
      ],
      "execution_count": 212,
      "outputs": [
        {
          "output_type": "execute_result",
          "data": {
            "text/html": [
              "<div>\n",
              "<style scoped>\n",
              "    .dataframe tbody tr th:only-of-type {\n",
              "        vertical-align: middle;\n",
              "    }\n",
              "\n",
              "    .dataframe tbody tr th {\n",
              "        vertical-align: top;\n",
              "    }\n",
              "\n",
              "    .dataframe thead th {\n",
              "        text-align: right;\n",
              "    }\n",
              "</style>\n",
              "<table border=\"1\" class=\"dataframe\">\n",
              "  <thead>\n",
              "    <tr style=\"text-align: right;\">\n",
              "      <th></th>\n",
              "      <th>fixed acidity</th>\n",
              "      <th>volatile acidity</th>\n",
              "      <th>citric acid</th>\n",
              "      <th>residual sugar</th>\n",
              "      <th>chlorides</th>\n",
              "      <th>free sulfur dioxide</th>\n",
              "      <th>total sulfur dioxide</th>\n",
              "      <th>density</th>\n",
              "      <th>pH</th>\n",
              "      <th>sulphates</th>\n",
              "      <th>alcohol</th>\n",
              "      <th>quality</th>\n",
              "      <th>winetype</th>\n",
              "    </tr>\n",
              "  </thead>\n",
              "  <tbody>\n",
              "    <tr>\n",
              "      <th>0</th>\n",
              "      <td>7.0</td>\n",
              "      <td>0.27</td>\n",
              "      <td>0.36</td>\n",
              "      <td>20.7</td>\n",
              "      <td>0.045</td>\n",
              "      <td>45.0</td>\n",
              "      <td>170.0</td>\n",
              "      <td>1.0010</td>\n",
              "      <td>3.00</td>\n",
              "      <td>0.45</td>\n",
              "      <td>8.8</td>\n",
              "      <td>6</td>\n",
              "      <td>0</td>\n",
              "    </tr>\n",
              "    <tr>\n",
              "      <th>1</th>\n",
              "      <td>6.3</td>\n",
              "      <td>0.30</td>\n",
              "      <td>0.34</td>\n",
              "      <td>1.6</td>\n",
              "      <td>0.049</td>\n",
              "      <td>14.0</td>\n",
              "      <td>132.0</td>\n",
              "      <td>0.9940</td>\n",
              "      <td>3.30</td>\n",
              "      <td>0.49</td>\n",
              "      <td>9.5</td>\n",
              "      <td>6</td>\n",
              "      <td>0</td>\n",
              "    </tr>\n",
              "    <tr>\n",
              "      <th>2</th>\n",
              "      <td>8.1</td>\n",
              "      <td>0.28</td>\n",
              "      <td>0.40</td>\n",
              "      <td>6.9</td>\n",
              "      <td>0.050</td>\n",
              "      <td>30.0</td>\n",
              "      <td>97.0</td>\n",
              "      <td>0.9951</td>\n",
              "      <td>3.26</td>\n",
              "      <td>0.44</td>\n",
              "      <td>10.1</td>\n",
              "      <td>6</td>\n",
              "      <td>0</td>\n",
              "    </tr>\n",
              "    <tr>\n",
              "      <th>3</th>\n",
              "      <td>7.2</td>\n",
              "      <td>0.23</td>\n",
              "      <td>0.32</td>\n",
              "      <td>8.5</td>\n",
              "      <td>0.058</td>\n",
              "      <td>47.0</td>\n",
              "      <td>186.0</td>\n",
              "      <td>0.9956</td>\n",
              "      <td>3.19</td>\n",
              "      <td>0.40</td>\n",
              "      <td>9.9</td>\n",
              "      <td>6</td>\n",
              "      <td>0</td>\n",
              "    </tr>\n",
              "    <tr>\n",
              "      <th>4</th>\n",
              "      <td>7.2</td>\n",
              "      <td>0.23</td>\n",
              "      <td>0.32</td>\n",
              "      <td>8.5</td>\n",
              "      <td>0.058</td>\n",
              "      <td>47.0</td>\n",
              "      <td>186.0</td>\n",
              "      <td>0.9956</td>\n",
              "      <td>3.19</td>\n",
              "      <td>0.40</td>\n",
              "      <td>9.9</td>\n",
              "      <td>6</td>\n",
              "      <td>0</td>\n",
              "    </tr>\n",
              "  </tbody>\n",
              "</table>\n",
              "</div>"
            ],
            "text/plain": [
              "   fixed acidity  volatile acidity  citric acid  ...  alcohol  quality  winetype\n",
              "0            7.0              0.27         0.36  ...      8.8        6         0\n",
              "1            6.3              0.30         0.34  ...      9.5        6         0\n",
              "2            8.1              0.28         0.40  ...     10.1        6         0\n",
              "3            7.2              0.23         0.32  ...      9.9        6         0\n",
              "4            7.2              0.23         0.32  ...      9.9        6         0\n",
              "\n",
              "[5 rows x 13 columns]"
            ]
          },
          "metadata": {
            "tags": []
          },
          "execution_count": 212
        }
      ]
    },
    {
      "cell_type": "markdown",
      "metadata": {
        "id": "Lh2Dos2DXk_Q"
      },
      "source": [
        "**Now we append both datasets.**"
      ]
    },
    {
      "cell_type": "code",
      "metadata": {
        "id": "pqXC9njBXrWu"
      },
      "source": [
        "df_tot = df_wht.append(df_red)"
      ],
      "execution_count": 213,
      "outputs": []
    },
    {
      "cell_type": "code",
      "metadata": {
        "colab": {
          "base_uri": "https://localhost:8080/",
          "height": 195
        },
        "id": "9EpKBZ8PdUjV",
        "outputId": "5330bc61-93bd-491c-b5b1-575e9e814e2e"
      },
      "source": [
        "df_tot.head() # We can see that the first few values are from the white wine dataset (winetype = 0)"
      ],
      "execution_count": 214,
      "outputs": [
        {
          "output_type": "execute_result",
          "data": {
            "text/html": [
              "<div>\n",
              "<style scoped>\n",
              "    .dataframe tbody tr th:only-of-type {\n",
              "        vertical-align: middle;\n",
              "    }\n",
              "\n",
              "    .dataframe tbody tr th {\n",
              "        vertical-align: top;\n",
              "    }\n",
              "\n",
              "    .dataframe thead th {\n",
              "        text-align: right;\n",
              "    }\n",
              "</style>\n",
              "<table border=\"1\" class=\"dataframe\">\n",
              "  <thead>\n",
              "    <tr style=\"text-align: right;\">\n",
              "      <th></th>\n",
              "      <th>fixed acidity</th>\n",
              "      <th>volatile acidity</th>\n",
              "      <th>citric acid</th>\n",
              "      <th>residual sugar</th>\n",
              "      <th>chlorides</th>\n",
              "      <th>free sulfur dioxide</th>\n",
              "      <th>total sulfur dioxide</th>\n",
              "      <th>density</th>\n",
              "      <th>pH</th>\n",
              "      <th>sulphates</th>\n",
              "      <th>alcohol</th>\n",
              "      <th>quality</th>\n",
              "      <th>winetype</th>\n",
              "    </tr>\n",
              "  </thead>\n",
              "  <tbody>\n",
              "    <tr>\n",
              "      <th>0</th>\n",
              "      <td>7.0</td>\n",
              "      <td>0.27</td>\n",
              "      <td>0.36</td>\n",
              "      <td>20.7</td>\n",
              "      <td>0.045</td>\n",
              "      <td>45.0</td>\n",
              "      <td>170.0</td>\n",
              "      <td>1.0010</td>\n",
              "      <td>3.00</td>\n",
              "      <td>0.45</td>\n",
              "      <td>8.8</td>\n",
              "      <td>6</td>\n",
              "      <td>0</td>\n",
              "    </tr>\n",
              "    <tr>\n",
              "      <th>1</th>\n",
              "      <td>6.3</td>\n",
              "      <td>0.30</td>\n",
              "      <td>0.34</td>\n",
              "      <td>1.6</td>\n",
              "      <td>0.049</td>\n",
              "      <td>14.0</td>\n",
              "      <td>132.0</td>\n",
              "      <td>0.9940</td>\n",
              "      <td>3.30</td>\n",
              "      <td>0.49</td>\n",
              "      <td>9.5</td>\n",
              "      <td>6</td>\n",
              "      <td>0</td>\n",
              "    </tr>\n",
              "    <tr>\n",
              "      <th>2</th>\n",
              "      <td>8.1</td>\n",
              "      <td>0.28</td>\n",
              "      <td>0.40</td>\n",
              "      <td>6.9</td>\n",
              "      <td>0.050</td>\n",
              "      <td>30.0</td>\n",
              "      <td>97.0</td>\n",
              "      <td>0.9951</td>\n",
              "      <td>3.26</td>\n",
              "      <td>0.44</td>\n",
              "      <td>10.1</td>\n",
              "      <td>6</td>\n",
              "      <td>0</td>\n",
              "    </tr>\n",
              "    <tr>\n",
              "      <th>3</th>\n",
              "      <td>7.2</td>\n",
              "      <td>0.23</td>\n",
              "      <td>0.32</td>\n",
              "      <td>8.5</td>\n",
              "      <td>0.058</td>\n",
              "      <td>47.0</td>\n",
              "      <td>186.0</td>\n",
              "      <td>0.9956</td>\n",
              "      <td>3.19</td>\n",
              "      <td>0.40</td>\n",
              "      <td>9.9</td>\n",
              "      <td>6</td>\n",
              "      <td>0</td>\n",
              "    </tr>\n",
              "    <tr>\n",
              "      <th>4</th>\n",
              "      <td>7.2</td>\n",
              "      <td>0.23</td>\n",
              "      <td>0.32</td>\n",
              "      <td>8.5</td>\n",
              "      <td>0.058</td>\n",
              "      <td>47.0</td>\n",
              "      <td>186.0</td>\n",
              "      <td>0.9956</td>\n",
              "      <td>3.19</td>\n",
              "      <td>0.40</td>\n",
              "      <td>9.9</td>\n",
              "      <td>6</td>\n",
              "      <td>0</td>\n",
              "    </tr>\n",
              "  </tbody>\n",
              "</table>\n",
              "</div>"
            ],
            "text/plain": [
              "   fixed acidity  volatile acidity  citric acid  ...  alcohol  quality  winetype\n",
              "0            7.0              0.27         0.36  ...      8.8        6         0\n",
              "1            6.3              0.30         0.34  ...      9.5        6         0\n",
              "2            8.1              0.28         0.40  ...     10.1        6         0\n",
              "3            7.2              0.23         0.32  ...      9.9        6         0\n",
              "4            7.2              0.23         0.32  ...      9.9        6         0\n",
              "\n",
              "[5 rows x 13 columns]"
            ]
          },
          "metadata": {
            "tags": []
          },
          "execution_count": 214
        }
      ]
    },
    {
      "cell_type": "code",
      "metadata": {
        "colab": {
          "base_uri": "https://localhost:8080/",
          "height": 195
        },
        "id": "Td-Ld_Q2bqDu",
        "outputId": "932365d3-b346-4c88-983b-639dfa20ce0a"
      },
      "source": [
        "df_tot.tail() # We can see that the last few values are from the red wine dataset (winetype = 1)"
      ],
      "execution_count": 215,
      "outputs": [
        {
          "output_type": "execute_result",
          "data": {
            "text/html": [
              "<div>\n",
              "<style scoped>\n",
              "    .dataframe tbody tr th:only-of-type {\n",
              "        vertical-align: middle;\n",
              "    }\n",
              "\n",
              "    .dataframe tbody tr th {\n",
              "        vertical-align: top;\n",
              "    }\n",
              "\n",
              "    .dataframe thead th {\n",
              "        text-align: right;\n",
              "    }\n",
              "</style>\n",
              "<table border=\"1\" class=\"dataframe\">\n",
              "  <thead>\n",
              "    <tr style=\"text-align: right;\">\n",
              "      <th></th>\n",
              "      <th>fixed acidity</th>\n",
              "      <th>volatile acidity</th>\n",
              "      <th>citric acid</th>\n",
              "      <th>residual sugar</th>\n",
              "      <th>chlorides</th>\n",
              "      <th>free sulfur dioxide</th>\n",
              "      <th>total sulfur dioxide</th>\n",
              "      <th>density</th>\n",
              "      <th>pH</th>\n",
              "      <th>sulphates</th>\n",
              "      <th>alcohol</th>\n",
              "      <th>quality</th>\n",
              "      <th>winetype</th>\n",
              "    </tr>\n",
              "  </thead>\n",
              "  <tbody>\n",
              "    <tr>\n",
              "      <th>1594</th>\n",
              "      <td>6.2</td>\n",
              "      <td>0.600</td>\n",
              "      <td>0.08</td>\n",
              "      <td>2.0</td>\n",
              "      <td>0.090</td>\n",
              "      <td>32.0</td>\n",
              "      <td>44.0</td>\n",
              "      <td>0.99490</td>\n",
              "      <td>3.45</td>\n",
              "      <td>0.58</td>\n",
              "      <td>10.5</td>\n",
              "      <td>5</td>\n",
              "      <td>1</td>\n",
              "    </tr>\n",
              "    <tr>\n",
              "      <th>1595</th>\n",
              "      <td>5.9</td>\n",
              "      <td>0.550</td>\n",
              "      <td>0.10</td>\n",
              "      <td>2.2</td>\n",
              "      <td>0.062</td>\n",
              "      <td>39.0</td>\n",
              "      <td>51.0</td>\n",
              "      <td>0.99512</td>\n",
              "      <td>3.52</td>\n",
              "      <td>0.76</td>\n",
              "      <td>11.2</td>\n",
              "      <td>6</td>\n",
              "      <td>1</td>\n",
              "    </tr>\n",
              "    <tr>\n",
              "      <th>1596</th>\n",
              "      <td>6.3</td>\n",
              "      <td>0.510</td>\n",
              "      <td>0.13</td>\n",
              "      <td>2.3</td>\n",
              "      <td>0.076</td>\n",
              "      <td>29.0</td>\n",
              "      <td>40.0</td>\n",
              "      <td>0.99574</td>\n",
              "      <td>3.42</td>\n",
              "      <td>0.75</td>\n",
              "      <td>11.0</td>\n",
              "      <td>6</td>\n",
              "      <td>1</td>\n",
              "    </tr>\n",
              "    <tr>\n",
              "      <th>1597</th>\n",
              "      <td>5.9</td>\n",
              "      <td>0.645</td>\n",
              "      <td>0.12</td>\n",
              "      <td>2.0</td>\n",
              "      <td>0.075</td>\n",
              "      <td>32.0</td>\n",
              "      <td>44.0</td>\n",
              "      <td>0.99547</td>\n",
              "      <td>3.57</td>\n",
              "      <td>0.71</td>\n",
              "      <td>10.2</td>\n",
              "      <td>5</td>\n",
              "      <td>1</td>\n",
              "    </tr>\n",
              "    <tr>\n",
              "      <th>1598</th>\n",
              "      <td>6.0</td>\n",
              "      <td>0.310</td>\n",
              "      <td>0.47</td>\n",
              "      <td>3.6</td>\n",
              "      <td>0.067</td>\n",
              "      <td>18.0</td>\n",
              "      <td>42.0</td>\n",
              "      <td>0.99549</td>\n",
              "      <td>3.39</td>\n",
              "      <td>0.66</td>\n",
              "      <td>11.0</td>\n",
              "      <td>6</td>\n",
              "      <td>1</td>\n",
              "    </tr>\n",
              "  </tbody>\n",
              "</table>\n",
              "</div>"
            ],
            "text/plain": [
              "      fixed acidity  volatile acidity  citric acid  ...  alcohol  quality  winetype\n",
              "1594            6.2             0.600         0.08  ...     10.5        5         1\n",
              "1595            5.9             0.550         0.10  ...     11.2        6         1\n",
              "1596            6.3             0.510         0.13  ...     11.0        6         1\n",
              "1597            5.9             0.645         0.12  ...     10.2        5         1\n",
              "1598            6.0             0.310         0.47  ...     11.0        6         1\n",
              "\n",
              "[5 rows x 13 columns]"
            ]
          },
          "metadata": {
            "tags": []
          },
          "execution_count": 215
        }
      ]
    },
    {
      "cell_type": "code",
      "metadata": {
        "colab": {
          "base_uri": "https://localhost:8080/"
        },
        "id": "VV0BLEGecIQW",
        "outputId": "ce8a3b6b-ea14-488b-8d1f-c27a28c8fbd2"
      },
      "source": [
        "reds = df_wht.shape[0]\n",
        "whites = df_red.shape[0]\n",
        "tots = df_tot.shape[0]\n",
        "\n",
        "reds, whites, tots \n",
        "# We can see that the number of rows checks out and sums up correctly, indicating a combining was successful."
      ],
      "execution_count": 216,
      "outputs": [
        {
          "output_type": "execute_result",
          "data": {
            "text/plain": [
              "(4898, 1599, 6497)"
            ]
          },
          "metadata": {
            "tags": []
          },
          "execution_count": 216
        }
      ]
    },
    {
      "cell_type": "markdown",
      "metadata": {
        "id": "dSkM6HY0TaTc"
      },
      "source": [
        "###**2.1**\n",
        "*Visualize the univariate distribution of the target feature and each of the three explanatory variables that you think are likely to have a relationship with the target feature.*"
      ]
    },
    {
      "cell_type": "markdown",
      "metadata": {
        "id": "IHBbI10qjNPe"
      },
      "source": [
        "**Choosing 'residual sugar', 'fixed acidity', and 'volatile acidity' as my three explanatory variables.**"
      ]
    },
    {
      "cell_type": "code",
      "metadata": {
        "colab": {
          "base_uri": "https://localhost:8080/",
          "height": 1000
        },
        "id": "Pzvto8DKeDNi",
        "outputId": "1ddac2bd-692b-4d7f-d13f-85c7e0b6770a"
      },
      "source": [
        "# Wine type histogram\n",
        "plt.hist(data = df_tot, x = 'winetype')\n",
        "plt.xlabel('Wine Type (white = 0, red = 1)')\n",
        "plt.ylabel('Count')\n",
        "plt.title('Wine Type')\n",
        "\n",
        "plt.show()\n",
        "\n",
        "# Residual sugar histogram\n",
        "plt.hist(data = df_tot, x = 'residual sugar')\n",
        "plt.xlabel('Residual Sugar')\n",
        "plt.ylabel('Count')\n",
        "plt.title('Residual Sugar Distribution')\n",
        "\n",
        "plt.show()\n",
        "\n",
        "# Fixed acidity histogram\n",
        "plt.hist(data = df_tot, x = 'fixed acidity')\n",
        "plt.xlabel('Fixed Acidity')\n",
        "plt.ylabel('Count')\n",
        "plt.title('Fixed Acidity Distribution')\n",
        "\n",
        "plt.show()\n",
        "\n",
        "# Volatile acidity histogram\n",
        "plt.hist(data = df_tot, x = 'volatile acidity')\n",
        "plt.xlabel('Volatile Acidity')\n",
        "plt.ylabel('Count')\n",
        "plt.title('Volatile Acidity Distribution')\n",
        "\n",
        "plt.show()"
      ],
      "execution_count": 217,
      "outputs": [
        {
          "output_type": "display_data",
          "data": {
            "image/png": "[encoded data removed]",
            "text/plain": [
              "<Figure size 432x288 with 1 Axes>"
            ]
          },
          "metadata": {
            "tags": [],
            "needs_background": "light"
          }
        },
        {
          "output_type": "display_data",
          "data": {
            "image/png": "[encoded data removed]",
            "text/plain": [
              "<Figure size 432x288 with 1 Axes>"
            ]
          },
          "metadata": {
            "tags": [],
            "needs_background": "light"
          }
        },
        {
          "output_type": "display_data",
          "data": {
            "image/png": "[encoded data removed]",
            "text/plain": [
              "<Figure size 432x288 with 1 Axes>"
            ]
          },
          "metadata": {
            "tags": [],
            "needs_background": "light"
          }
        },
        {
          "output_type": "display_data",
          "data": {
            "image/png": "[encoded data removed]",
            "text/plain": [
              "<Figure size 432x288 with 1 Axes>"
            ]
          },
          "metadata": {
            "tags": [],
            "needs_background": "light"
          }
        }
      ]
    },
    {
      "cell_type": "markdown",
      "metadata": {
        "id": "gCStfiHzTcBn"
      },
      "source": [
        "###**2.2**\n",
        "*Split data into training and test set. Build models that evaluate the relationship between all available X variables in the dataset and the target variable. Evaluate Logistic Regression, Penalized Logistic Regression, and KNN for classification using cross-validation. How different are the results? How does scaling the data with StandardScaler influence the results?*"
      ]
    },
    {
      "cell_type": "code",
      "metadata": {
        "colab": {
          "base_uri": "https://localhost:8080/",
          "height": 296
        },
        "id": "sru9Oif7I6_w",
        "outputId": "51fe17af-969f-452b-976f-4e434dde85db"
      },
      "source": [
        "y1 = df_tot['winetype']\n",
        "X1 = df_tot.loc[:, df_tot.columns != 'winetype']\n",
        "\n",
        "print(y1[0:5])\n",
        "X1.head()"
      ],
      "execution_count": 221,
      "outputs": [
        {
          "output_type": "stream",
          "text": [
            "0    0\n",
            "1    0\n",
            "2    0\n",
            "3    0\n",
            "4    0\n",
            "Name: winetype, dtype: int64\n"
          ],
          "name": "stdout"
        },
        {
          "output_type": "execute_result",
          "data": {
            "text/html": [
              "<div>\n",
              "<style scoped>\n",
              "    .dataframe tbody tr th:only-of-type {\n",
              "        vertical-align: middle;\n",
              "    }\n",
              "\n",
              "    .dataframe tbody tr th {\n",
              "        vertical-align: top;\n",
              "    }\n",
              "\n",
              "    .dataframe thead th {\n",
              "        text-align: right;\n",
              "    }\n",
              "</style>\n",
              "<table border=\"1\" class=\"dataframe\">\n",
              "  <thead>\n",
              "    <tr style=\"text-align: right;\">\n",
              "      <th></th>\n",
              "      <th>fixed acidity</th>\n",
              "      <th>volatile acidity</th>\n",
              "      <th>citric acid</th>\n",
              "      <th>residual sugar</th>\n",
              "      <th>chlorides</th>\n",
              "      <th>free sulfur dioxide</th>\n",
              "      <th>total sulfur dioxide</th>\n",
              "      <th>density</th>\n",
              "      <th>pH</th>\n",
              "      <th>sulphates</th>\n",
              "      <th>alcohol</th>\n",
              "      <th>quality</th>\n",
              "    </tr>\n",
              "  </thead>\n",
              "  <tbody>\n",
              "    <tr>\n",
              "      <th>0</th>\n",
              "      <td>7.0</td>\n",
              "      <td>0.27</td>\n",
              "      <td>0.36</td>\n",
              "      <td>20.7</td>\n",
              "      <td>0.045</td>\n",
              "      <td>45.0</td>\n",
              "      <td>170.0</td>\n",
              "      <td>1.0010</td>\n",
              "      <td>3.00</td>\n",
              "      <td>0.45</td>\n",
              "      <td>8.8</td>\n",
              "      <td>6</td>\n",
              "    </tr>\n",
              "    <tr>\n",
              "      <th>1</th>\n",
              "      <td>6.3</td>\n",
              "      <td>0.30</td>\n",
              "      <td>0.34</td>\n",
              "      <td>1.6</td>\n",
              "      <td>0.049</td>\n",
              "      <td>14.0</td>\n",
              "      <td>132.0</td>\n",
              "      <td>0.9940</td>\n",
              "      <td>3.30</td>\n",
              "      <td>0.49</td>\n",
              "      <td>9.5</td>\n",
              "      <td>6</td>\n",
              "    </tr>\n",
              "    <tr>\n",
              "      <th>2</th>\n",
              "      <td>8.1</td>\n",
              "      <td>0.28</td>\n",
              "      <td>0.40</td>\n",
              "      <td>6.9</td>\n",
              "      <td>0.050</td>\n",
              "      <td>30.0</td>\n",
              "      <td>97.0</td>\n",
              "      <td>0.9951</td>\n",
              "      <td>3.26</td>\n",
              "      <td>0.44</td>\n",
              "      <td>10.1</td>\n",
              "      <td>6</td>\n",
              "    </tr>\n",
              "    <tr>\n",
              "      <th>3</th>\n",
              "      <td>7.2</td>\n",
              "      <td>0.23</td>\n",
              "      <td>0.32</td>\n",
              "      <td>8.5</td>\n",
              "      <td>0.058</td>\n",
              "      <td>47.0</td>\n",
              "      <td>186.0</td>\n",
              "      <td>0.9956</td>\n",
              "      <td>3.19</td>\n",
              "      <td>0.40</td>\n",
              "      <td>9.9</td>\n",
              "      <td>6</td>\n",
              "    </tr>\n",
              "    <tr>\n",
              "      <th>4</th>\n",
              "      <td>7.2</td>\n",
              "      <td>0.23</td>\n",
              "      <td>0.32</td>\n",
              "      <td>8.5</td>\n",
              "      <td>0.058</td>\n",
              "      <td>47.0</td>\n",
              "      <td>186.0</td>\n",
              "      <td>0.9956</td>\n",
              "      <td>3.19</td>\n",
              "      <td>0.40</td>\n",
              "      <td>9.9</td>\n",
              "      <td>6</td>\n",
              "    </tr>\n",
              "  </tbody>\n",
              "</table>\n",
              "</div>"
            ],
            "text/plain": [
              "   fixed acidity  volatile acidity  citric acid  ...  sulphates  alcohol  quality\n",
              "0            7.0              0.27         0.36  ...       0.45      8.8        6\n",
              "1            6.3              0.30         0.34  ...       0.49      9.5        6\n",
              "2            8.1              0.28         0.40  ...       0.44     10.1        6\n",
              "3            7.2              0.23         0.32  ...       0.40      9.9        6\n",
              "4            7.2              0.23         0.32  ...       0.40      9.9        6\n",
              "\n",
              "[5 rows x 12 columns]"
            ]
          },
          "metadata": {
            "tags": []
          },
          "execution_count": 221
        }
      ]
    },
    {
      "cell_type": "markdown",
      "metadata": {
        "id": "ZrqR4SkGJtyg"
      },
      "source": [
        "**Train-test splitting our data.**"
      ]
    },
    {
      "cell_type": "code",
      "metadata": {
        "colab": {
          "base_uri": "https://localhost:8080/",
          "height": 296
        },
        "id": "RDSzkv01JmWY",
        "outputId": "f9751d36-fce1-4e01-de42-6f7c7fc59eda"
      },
      "source": [
        "X1_train, X1_test, y1_train, y1_test = train_test_split(X1, y1, random_state=0)\n",
        "\n",
        "print(y1_train[0:5])\n",
        "X1_train.head()"
      ],
      "execution_count": 251,
      "outputs": [
        {
          "output_type": "stream",
          "text": [
            "3731    0\n",
            "1651    0\n",
            "162     1\n",
            "1303    0\n",
            "474     0\n",
            "Name: winetype, dtype: int64\n"
          ],
          "name": "stdout"
        },
        {
          "output_type": "execute_result",
          "data": {
            "text/html": [
              "<div>\n",
              "<style scoped>\n",
              "    .dataframe tbody tr th:only-of-type {\n",
              "        vertical-align: middle;\n",
              "    }\n",
              "\n",
              "    .dataframe tbody tr th {\n",
              "        vertical-align: top;\n",
              "    }\n",
              "\n",
              "    .dataframe thead th {\n",
              "        text-align: right;\n",
              "    }\n",
              "</style>\n",
              "<table border=\"1\" class=\"dataframe\">\n",
              "  <thead>\n",
              "    <tr style=\"text-align: right;\">\n",
              "      <th></th>\n",
              "      <th>fixed acidity</th>\n",
              "      <th>volatile acidity</th>\n",
              "      <th>citric acid</th>\n",
              "      <th>residual sugar</th>\n",
              "      <th>chlorides</th>\n",
              "      <th>free sulfur dioxide</th>\n",
              "      <th>total sulfur dioxide</th>\n",
              "      <th>density</th>\n",
              "      <th>pH</th>\n",
              "      <th>sulphates</th>\n",
              "      <th>alcohol</th>\n",
              "      <th>quality</th>\n",
              "    </tr>\n",
              "  </thead>\n",
              "  <tbody>\n",
              "    <tr>\n",
              "      <th>3731</th>\n",
              "      <td>7.0</td>\n",
              "      <td>0.34</td>\n",
              "      <td>0.26</td>\n",
              "      <td>10.3</td>\n",
              "      <td>0.041</td>\n",
              "      <td>51.0</td>\n",
              "      <td>166.0</td>\n",
              "      <td>0.99382</td>\n",
              "      <td>3.08</td>\n",
              "      <td>0.35</td>\n",
              "      <td>11.6</td>\n",
              "      <td>6</td>\n",
              "    </tr>\n",
              "    <tr>\n",
              "      <th>1651</th>\n",
              "      <td>6.4</td>\n",
              "      <td>0.42</td>\n",
              "      <td>0.74</td>\n",
              "      <td>12.8</td>\n",
              "      <td>0.076</td>\n",
              "      <td>48.0</td>\n",
              "      <td>209.0</td>\n",
              "      <td>0.99780</td>\n",
              "      <td>3.12</td>\n",
              "      <td>0.58</td>\n",
              "      <td>9.0</td>\n",
              "      <td>6</td>\n",
              "    </tr>\n",
              "    <tr>\n",
              "      <th>162</th>\n",
              "      <td>7.8</td>\n",
              "      <td>0.53</td>\n",
              "      <td>0.04</td>\n",
              "      <td>1.7</td>\n",
              "      <td>0.076</td>\n",
              "      <td>17.0</td>\n",
              "      <td>31.0</td>\n",
              "      <td>0.99640</td>\n",
              "      <td>3.33</td>\n",
              "      <td>0.56</td>\n",
              "      <td>10.0</td>\n",
              "      <td>6</td>\n",
              "    </tr>\n",
              "    <tr>\n",
              "      <th>1303</th>\n",
              "      <td>8.2</td>\n",
              "      <td>0.20</td>\n",
              "      <td>0.36</td>\n",
              "      <td>8.1</td>\n",
              "      <td>0.035</td>\n",
              "      <td>60.0</td>\n",
              "      <td>163.0</td>\n",
              "      <td>0.99520</td>\n",
              "      <td>3.05</td>\n",
              "      <td>0.30</td>\n",
              "      <td>10.3</td>\n",
              "      <td>6</td>\n",
              "    </tr>\n",
              "    <tr>\n",
              "      <th>474</th>\n",
              "      <td>5.5</td>\n",
              "      <td>0.16</td>\n",
              "      <td>0.22</td>\n",
              "      <td>4.5</td>\n",
              "      <td>0.030</td>\n",
              "      <td>30.0</td>\n",
              "      <td>102.0</td>\n",
              "      <td>0.99380</td>\n",
              "      <td>3.24</td>\n",
              "      <td>0.36</td>\n",
              "      <td>9.4</td>\n",
              "      <td>6</td>\n",
              "    </tr>\n",
              "  </tbody>\n",
              "</table>\n",
              "</div>"
            ],
            "text/plain": [
              "      fixed acidity  volatile acidity  citric acid  ...  sulphates  alcohol  quality\n",
              "3731            7.0              0.34         0.26  ...       0.35     11.6        6\n",
              "1651            6.4              0.42         0.74  ...       0.58      9.0        6\n",
              "162             7.8              0.53         0.04  ...       0.56     10.0        6\n",
              "1303            8.2              0.20         0.36  ...       0.30     10.3        6\n",
              "474             5.5              0.16         0.22  ...       0.36      9.4        6\n",
              "\n",
              "[5 rows x 12 columns]"
            ]
          },
          "metadata": {
            "tags": []
          },
          "execution_count": 251
        }
      ]
    },
    {
      "cell_type": "markdown",
      "metadata": {
        "id": "b6M5MnWWKNmL"
      },
      "source": [
        "####**KNN Classification and Cross Validation**"
      ]
    },
    {
      "cell_type": "code",
      "metadata": {
        "colab": {
          "base_uri": "https://localhost:8080/"
        },
        "id": "NN4up3IJKNmM",
        "outputId": "18099727-f3d9-4586-bd62-70bb5c9c80d0"
      },
      "source": [
        "from sklearn.neighbors import KNeighborsClassifier\n",
        "\n",
        "knn1 = KNeighborsClassifier(n_neighbors=5)\n",
        "knn1.fit(X1_train, y1_train)\n",
        "\n",
        "#Print accuracy rounded to two decimal places\n",
        "print(\"accuracy: {:.2f}\".format(knn1.score(X1_test, y1_test)))"
      ],
      "execution_count": 266,
      "outputs": [
        {
          "output_type": "stream",
          "text": [
            "accuracy: 0.94\n"
          ],
          "name": "stdout"
        }
      ]
    },
    {
      "cell_type": "code",
      "metadata": {
        "colab": {
          "base_uri": "https://localhost:8080/"
        },
        "id": "ntTjHMg_KNmP",
        "outputId": "bbf5a389-2546-430f-934e-bba788d46d09"
      },
      "source": [
        "from sklearn.model_selection import StratifiedKFold\n",
        "\n",
        "kfold = KFold(n_splits=5)\n",
        "skfold = StratifiedKFold(n_splits=5, shuffle=True)\n",
        "rkf = RepeatedKFold(n_splits=5, n_repeats=10)\n",
        "\n",
        "print(\"KFold:\\n{}\".format(\n",
        "cross_val_score(KNeighborsClassifier(n_neighbors=5), X1_train, y1_train, cv=kfold).mean()))\n",
        "\n",
        "print(\"StratifiedKFold:\\n{}\".format(\n",
        "cross_val_score(KNeighborsClassifier(n_neighbors=5), X1_train, y1_train, cv=skfold).mean()))\n",
        "\n",
        "print(\"RepeatedKFold:\\n{}\".format(\n",
        "cross_val_score(KNeighborsClassifier(n_neighbors=5), X1_train, y1_train, cv=rkf).mean()))"
      ],
      "execution_count": 267,
      "outputs": [
        {
          "output_type": "stream",
          "text": [
            "KFold:\n",
            "0.9392430895593114\n",
            "StratifiedKFold:\n",
            "0.9371890696572421\n",
            "RepeatedKFold:\n",
            "0.9380743852998475\n"
          ],
          "name": "stdout"
        }
      ]
    },
    {
      "cell_type": "markdown",
      "metadata": {
        "id": "HBypacSpKNmP"
      },
      "source": [
        "**Using StandardScaler()**"
      ]
    },
    {
      "cell_type": "code",
      "metadata": {
        "colab": {
          "base_uri": "https://localhost:8080/"
        },
        "id": "RU7TstXKKNmP",
        "outputId": "06e68267-6ffc-4125-ff39-63f61f4f1955"
      },
      "source": [
        "knn1_pipe = make_pipeline(StandardScaler(), KNeighborsClassifier(n_neighbors=5))\n",
        "\n",
        "knn1_pipe.fit(X1_train, y1_train)\n",
        "knn1_pipe.score(X1_test, y1_test)"
      ],
      "execution_count": 256,
      "outputs": [
        {
          "output_type": "execute_result",
          "data": {
            "text/plain": [
              "0.992"
            ]
          },
          "metadata": {
            "tags": []
          },
          "execution_count": 256
        }
      ]
    },
    {
      "cell_type": "markdown",
      "metadata": {
        "id": "HuxdfHkMQwox"
      },
      "source": [
        "\n",
        "\n",
        "---\n",
        "\n",
        "\n",
        "We see a slight improvement in our r2 score (compared to that of CV) when scaling our data using StandardScaler().\n",
        "\n",
        "\n",
        "---\n",
        "\n"
      ]
    },
    {
      "cell_type": "markdown",
      "metadata": {
        "id": "LcppiWcURlwc"
      },
      "source": [
        "####**Unpenalized Logistic Regression and CV**"
      ]
    },
    {
      "cell_type": "code",
      "metadata": {
        "colab": {
          "base_uri": "https://localhost:8080/"
        },
        "id": "27DSyVKHRqin",
        "outputId": "fd8a5b5e-a04d-4687-d551-8a4cfcfd2a67"
      },
      "source": [
        "from sklearn.linear_model import LogisticRegression\n",
        "\n",
        "# C=1 is default\n",
        "ulogreg = LogisticRegression(penalty='none', max_iter=10000).fit(X1_train, y1_train)\n",
        "\n",
        "print(\"logreg .coef_: {}\".format(ulogreg.coef_))\n",
        "print(\"logreg .intercept_: {}\".format(ulogreg.intercept_))"
      ],
      "execution_count": 286,
      "outputs": [
        {
          "output_type": "stream",
          "text": [
            "logreg .coef_: [[  1.52298958  11.35414332  -1.35982429  -0.0779187   39.16447828\n",
            "    0.05273353  -0.06700305 -21.57022861   9.86221811   8.19745305\n",
            "   -0.37098538   0.14777283]]\n",
            "logreg .intercept_: [-25.88109744]\n"
          ],
          "name": "stdout"
        }
      ]
    },
    {
      "cell_type": "code",
      "metadata": {
        "colab": {
          "base_uri": "https://localhost:8080/"
        },
        "id": "9QSdbOSLSAdp",
        "outputId": "bebbf2fb-6af1-49a0-dbf2-074a47c89d2c"
      },
      "source": [
        "print(\"Training set score: {:.3f}\".format(ulogreg.score(X1_train, y1_train)))\n",
        "print(\"Test set score: {:.3f}\".format(ulogreg.score(X1_test, y1_test)))\n",
        "\n",
        "print(\"CV score: {:.3f}\".format(cross_val_score(LogisticRegression(penalty='none', max_iter=10000), X1_train, y1_train, cv=10, scoring='r2').mean()))"
      ],
      "execution_count": 287,
      "outputs": [
        {
          "output_type": "stream",
          "text": [
            "Training set score: 0.988\n",
            "Test set score: 0.988\n",
            "CV score: 0.940\n"
          ],
          "name": "stdout"
        }
      ]
    },
    {
      "cell_type": "markdown",
      "metadata": {
        "id": "e-tJSnyHTG8x"
      },
      "source": [
        "**Using StandardScaler()**"
      ]
    },
    {
      "cell_type": "code",
      "metadata": {
        "colab": {
          "base_uri": "https://localhost:8080/"
        },
        "id": "ZAtJ44eKTG9L",
        "outputId": "03c804a8-402b-4f69-d2d2-9edd8646f2c7"
      },
      "source": [
        "ulog_pipe = make_pipeline(StandardScaler(), LogisticRegression(penalty='none', max_iter=10000))\n",
        "\n",
        "ulog_pipe.fit(X1_train, y1_train)\n",
        "ulog_pipe.score(X1_test, y1_test)"
      ],
      "execution_count": 288,
      "outputs": [
        {
          "output_type": "execute_result",
          "data": {
            "text/plain": [
              "0.9938461538461538"
            ]
          },
          "metadata": {
            "tags": []
          },
          "execution_count": 288
        }
      ]
    },
    {
      "cell_type": "markdown",
      "metadata": {
        "id": "TxtpB44xTw42"
      },
      "source": [
        "\n",
        "\n",
        "---\n",
        "\n",
        "\n",
        "We see a slight improvement in our r2 score (compared to that of CV) when scaling our data using StandardScaler().\n",
        "\n",
        "\n",
        "---\n",
        "\n"
      ]
    },
    {
      "cell_type": "markdown",
      "metadata": {
        "id": "pgMNhI8EXI4U"
      },
      "source": [
        "####**L2 Penalized Logistic Regression and CV**"
      ]
    },
    {
      "cell_type": "code",
      "metadata": {
        "colab": {
          "base_uri": "https://localhost:8080/"
        },
        "id": "iUsEJlVdXI4c",
        "outputId": "cb0eedc7-3c02-406b-8763-58ceaf645e20"
      },
      "source": [
        "# C=1 is default\n",
        "plogreg = LogisticRegression(penalty='l2', max_iter=10000).fit(X1_train, y1_train)\n",
        "\n",
        "print(\"logreg .coef_: {}\".format(plogreg.coef_))\n",
        "print(\"logreg .intercept_: {}\".format(plogreg.intercept_))"
      ],
      "execution_count": 290,
      "outputs": [
        {
          "output_type": "stream",
          "text": [
            "logreg .coef_: [[ 1.14854374e+00  7.99778038e+00 -9.12464620e-01 -1.00443653e-01\n",
            "   2.78749998e+00  4.30336003e-02 -5.69461547e-02  2.12801971e-01\n",
            "   5.86020612e+00  5.55880797e+00 -5.00898736e-01  3.35662258e-03]]\n",
            "logreg .intercept_: [-25.11987014]\n"
          ],
          "name": "stdout"
        }
      ]
    },
    {
      "cell_type": "code",
      "metadata": {
        "colab": {
          "base_uri": "https://localhost:8080/"
        },
        "id": "JwZfc6ULXI4e",
        "outputId": "25faff9d-b404-4963-b304-ed14281a49c7"
      },
      "source": [
        "print(\"Training set score: {:.3f}\".format(logreg.score(X1_train, y1_train)))\n",
        "print(\"Test set score: {:.3f}\".format(logreg.score(X1_test, y1_test)))\n",
        "\n",
        "print(\"CV score: {:.3f}\".format(cross_val_score(LogisticRegression(penalty='none', max_iter=10000), X1_train, y1_train, cv=10, scoring='r2').mean()))"
      ],
      "execution_count": null,
      "outputs": [
        {
          "output_type": "stream",
          "text": [
            "Training set score: 0.988\n",
            "Test set score: 0.988\n",
            "CV score: 0.940\n"
          ],
          "name": "stdout"
        }
      ]
    },
    {
      "cell_type": "markdown",
      "metadata": {
        "id": "k5OswVuIXI4f"
      },
      "source": [
        "**Using StandardScaler()**"
      ]
    },
    {
      "cell_type": "code",
      "metadata": {
        "colab": {
          "base_uri": "https://localhost:8080/"
        },
        "id": "ruJEAxbvXI4g",
        "outputId": "c40101b3-1e93-48c2-9b8a-02a6d8543a32"
      },
      "source": [
        "plog_pipe = make_pipeline(StandardScaler(), LogisticRegression(penalty='l2', max_iter=10000))\n",
        "\n",
        "plog_pipe.fit(X1_train, y1_train)\n",
        "plog_pipe.score(X1_test, y1_test)"
      ],
      "execution_count": 291,
      "outputs": [
        {
          "output_type": "execute_result",
          "data": {
            "text/plain": [
              "0.9944615384615385"
            ]
          },
          "metadata": {
            "tags": []
          },
          "execution_count": 291
        }
      ]
    },
    {
      "cell_type": "markdown",
      "metadata": {
        "id": "tOC7JfkXXI4i"
      },
      "source": [
        "\n",
        "\n",
        "---\n",
        "\n",
        "\n",
        "We see a slight improvement in our r2 score (compared to that of CV) when scaling our data using StandardScaler().\n",
        "\n",
        "\n",
        "---\n",
        "\n"
      ]
    },
    {
      "cell_type": "markdown",
      "metadata": {
        "id": "P3YnSy1oer5n"
      },
      "source": [
        "\n",
        "\n",
        "---\n",
        "\n",
        "\n",
        "**The KNN Classification model, the unpenalized logistic regression model, and the l2 penalized logistic regression model all seem to be quite similar to one another in terms of their prediction scores (accuracy for KNN classification, and r2 for both the logistic regression models.**\n",
        "\n",
        "\n",
        "---\n",
        "\n"
      ]
    },
    {
      "cell_type": "markdown",
      "metadata": {
        "id": "CkFohntwTdcl"
      },
      "source": [
        "###**2.3**\n",
        "*Tune the parameters where possible using GridSearchCV. Do the results improve?*"
      ]
    },
    {
      "cell_type": "markdown",
      "metadata": {
        "id": "uCHb_A_XZLDa"
      },
      "source": [
        "####**For KNN Classification**"
      ]
    },
    {
      "cell_type": "code",
      "metadata": {
        "colab": {
          "base_uri": "https://localhost:8080/"
        },
        "id": "A16btCVoZLD5",
        "outputId": "a0b9fb00-0720-48bb-e37c-229bb8d3033e"
      },
      "source": [
        "p_grid_knn1 = {'kneighborsclassifier__n_neighbors': [1,3,5,7,9,11,13,15]}\n",
        "\n",
        "grid_knn1 = GridSearchCV(knn1_pipe, p_grid_knn1, cv=10)\n",
        "grid_knn1.fit(X1_train, y1_train)\n",
        "\n",
        "print(\"best mean cross-validation score: {:.3f}\".format(grid_knn1.best_score_))\n",
        "print(\"best parameters: {}\".format(grid_knn1.best_params_))\n",
        "print(\"test-set score: {:.3f}\".format(grid_knn1.score(X1_test, y1_test)))"
      ],
      "execution_count": 294,
      "outputs": [
        {
          "output_type": "stream",
          "text": [
            "best mean cross-validation score: 0.994\n",
            "best parameters: {'kneighborsclassifier__n_neighbors': 3}\n",
            "test-set score: 0.993\n"
          ],
          "name": "stdout"
        }
      ]
    },
    {
      "cell_type": "markdown",
      "metadata": {
        "id": "TJ4xYy5VZLD8"
      },
      "source": [
        "\n",
        "\n",
        "---\n",
        "\n",
        "\n",
        "Our ideal k number of neighbors appears to be 3 rather than the default of 5. We do see a slight improvement to our r2 scores after tuning for parameters.\n",
        "\n",
        "\n",
        "---\n",
        "\n"
      ]
    },
    {
      "cell_type": "markdown",
      "metadata": {
        "id": "_nDmNJtLZLD9"
      },
      "source": [
        "####**For L2 Penalized Logistic Regression**"
      ]
    },
    {
      "cell_type": "code",
      "metadata": {
        "colab": {
          "base_uri": "https://localhost:8080/"
        },
        "id": "5aZJaurLZLD-",
        "outputId": "25f93512-7dfd-44ef-c8e1-0098ae290a73"
      },
      "source": [
        "p_grid_plog = {'logisticregression__C': [0.001, 0.01, 0.1, 1, 10, 100, 1000]}\n",
        "\n",
        "grid_plog = GridSearchCV(plog_pipe, p_grid_plog, cv=10)\n",
        "grid_plog.fit(X1_train, y1_train)\n",
        "\n",
        "print(\"best mean cross-validation score: {:.3f}\".format(grid_plog.best_score_))\n",
        "print(\"best parameters: {}\".format(grid_plog.best_params_))\n",
        "print(\"test-set score: {:.3f}\".format(grid_plog.score(X1_test, y1_test)))"
      ],
      "execution_count": 300,
      "outputs": [
        {
          "output_type": "stream",
          "text": [
            "best mean cross-validation score: 0.994\n",
            "best parameters: {'logisticregression__C': 100}\n",
            "test-set score: 0.994\n"
          ],
          "name": "stdout"
        }
      ]
    },
    {
      "cell_type": "markdown",
      "metadata": {
        "id": "z-BZysFBZLD_"
      },
      "source": [
        "\n",
        "\n",
        "---\n",
        "\n",
        "\n",
        "Our ideal tuning parameter for our l2 penalized logistic regression model is C=100, compared to the default value of 1. We do see a slight improvement to our r2 scores after tuning for parameters.\n",
        "\n",
        "\n",
        "---\n",
        "\n"
      ]
    },
    {
      "cell_type": "markdown",
      "metadata": {
        "id": "FF8XTmfmTfAi"
      },
      "source": [
        "###**2.4**\n",
        "*Compare the coefficients of your two best logistic regression models (not knn), do they agree on which features are important?*"
      ]
    },
    {
      "cell_type": "markdown",
      "metadata": {
        "id": "v2rZUS2NfyS1"
      },
      "source": [
        "**Unpenalized Logistic Regression Model**"
      ]
    },
    {
      "cell_type": "code",
      "metadata": {
        "colab": {
          "base_uri": "https://localhost:8080/"
        },
        "id": "iYJ8QzCYfyS-",
        "outputId": "903a319e-5270-4c00-af87-7b15019016c2"
      },
      "source": [
        "print(\"logreg .coef_: {}\".format(ulogreg.coef_))\n",
        "print(\"logreg .intercept_: {}\".format(ulogreg.intercept_))\n",
        "print(\"Number of features used: {}\".format(np.sum(ulogreg.coef_ != 0)))"
      ],
      "execution_count": 306,
      "outputs": [
        {
          "output_type": "stream",
          "text": [
            "logreg .coef_: [[  1.52298958  11.35414332  -1.35982429  -0.0779187   39.16447828\n",
            "    0.05273353  -0.06700305 -21.57022861   9.86221811   8.19745305\n",
            "   -0.37098538   0.14777283]]\n",
            "logreg .intercept_: [-25.88109744]\n",
            "Number of features used: 12\n"
          ],
          "name": "stdout"
        }
      ]
    },
    {
      "cell_type": "markdown",
      "metadata": {
        "id": "nNrhv0U2fyTC"
      },
      "source": [
        "**L2 Penalized Logistic Regression Model**"
      ]
    },
    {
      "cell_type": "code",
      "metadata": {
        "colab": {
          "base_uri": "https://localhost:8080/"
        },
        "id": "j4clm4LYfyTD",
        "outputId": "2d42f44a-cd50-4f4f-be6e-dade8f6d8d42"
      },
      "source": [
        "print(\"logreg .coef_: {}\".format(plogreg.coef_))\n",
        "print(\"logreg .intercept_: {}\".format(plogreg.intercept_))\n",
        "print(\"Number of features used: {}\".format(np.sum(plogreg.coef_ != 0)))"
      ],
      "execution_count": 309,
      "outputs": [
        {
          "output_type": "stream",
          "text": [
            "logreg .coef_: [[ 1.14854374e+00  7.99778038e+00 -9.12464620e-01 -1.00443653e-01\n",
            "   2.78749998e+00  4.30336003e-02 -5.69461547e-02  2.12801971e-01\n",
            "   5.86020612e+00  5.55880797e+00 -5.00898736e-01  3.35662258e-03]]\n",
            "logreg .intercept_: [-25.11987014]\n",
            "Number of features used: 12\n"
          ],
          "name": "stdout"
        }
      ]
    },
    {
      "cell_type": "markdown",
      "metadata": {
        "id": "smrw4MEjfyTE"
      },
      "source": [
        "\n",
        "\n",
        "---\n",
        "\n",
        "\n",
        "We see that both types of logistic regression used the same number of predictors in the model (12). However, almost all of the l2 penalized logistic regression model's coefficients are smaller in magnitude than the corresponding coefficients in the unpenalized logistic regression model (given that the l2 'Ridge' penalty aims at minimizing size of coefficients. \n",
        "\n",
        "---\n",
        "\n"
      ]
    },
    {
      "cell_type": "markdown",
      "metadata": {
        "id": "HsR9-qe6Tgak"
      },
      "source": [
        "###**2.5**\n",
        "*Discuss which final model you would choose to predict new data.*"
      ]
    },
    {
      "cell_type": "markdown",
      "metadata": {
        "id": "6b-x-wDLTmeD"
      },
      "source": [
        "\n",
        "\n",
        "---\n",
        "\n",
        "\n",
        "Since both logistic regression models had similar predictive scores and number of predictors used, I would choose the l2 penalized logistic regression because it seems more conservative and robust.\n",
        "\n",
        "\n",
        "---\n",
        "\n"
      ]
    }
  ]
}